{
 "cells": [
  {
   "cell_type": "markdown",
   "metadata": {},
   "source": [
    "#### Import libraries."
   ]
  },
  {
   "cell_type": "code",
   "execution_count": 1,
   "metadata": {},
   "outputs": [],
   "source": [
    "import pandas as pd\n",
    "import numpy as np\n",
    "import regex as re\n",
    "import ast\n",
    "import statsmodels.api as sm\n",
    "import matplotlib.pyplot as plt\n",
    "from bs4 import BeautifulSoup   \n",
    "from nltk.stem import WordNetLemmatizer\n",
    "from nltk.stem.porter import PorterStemmer\n",
    "from nltk.tokenize import RegexpTokenizer\n",
    "from nltk.corpus import stopwords\n",
    "from sklearn import svm\n",
    "from sklearn.tree import DecisionTreeClassifier\n",
    "from sklearn.neighbors import KNeighborsClassifier\n",
    "from sklearn.metrics import accuracy_score, confusion_matrix\n",
    "from sklearn.feature_extraction.text import CountVectorizer, HashingVectorizer, TfidfVectorizer\n",
    "from sklearn.pipeline import Pipeline\n",
    "from sklearn.naive_bayes import MultinomialNB\n",
    "from sklearn.model_selection import train_test_split, cross_val_score, GridSearchCV\n",
    "from sklearn.linear_model import LogisticRegressionCV, LogisticRegression, LinearRegression\n",
    "from sklearn.ensemble import ExtraTreesClassifier, RandomForestClassifier, BaggingClassifier, AdaBoostClassifier, GradientBoostingClassifier"
   ]
  },
  {
   "cell_type": "markdown",
   "metadata": {},
   "source": [
    "#### Read reddit text csv file."
   ]
  },
  {
   "cell_type": "code",
   "execution_count": 14,
   "metadata": {
    "scrolled": true
   },
   "outputs": [
    {
     "data": {
      "text/html": [
       "<div>\n",
       "<style scoped>\n",
       "    .dataframe tbody tr th:only-of-type {\n",
       "        vertical-align: middle;\n",
       "    }\n",
       "\n",
       "    .dataframe tbody tr th {\n",
       "        vertical-align: top;\n",
       "    }\n",
       "\n",
       "    .dataframe thead th {\n",
       "        text-align: right;\n",
       "    }\n",
       "</style>\n",
       "<table border=\"1\" class=\"dataframe\">\n",
       "  <thead>\n",
       "    <tr style=\"text-align: right;\">\n",
       "      <th></th>\n",
       "      <th>title</th>\n",
       "      <th>selftext</th>\n",
       "      <th>subreddit</th>\n",
       "      <th>num_comments</th>\n",
       "      <th>score</th>\n",
       "    </tr>\n",
       "  </thead>\n",
       "  <tbody>\n",
       "    <tr>\n",
       "      <th>0</th>\n",
       "      <td>First timer looking for suggestions!</td>\n",
       "      <td>My boyfriend and I are going to NYC tomorrow t...</td>\n",
       "      <td>1</td>\n",
       "      <td>20.0</td>\n",
       "      <td>5.0</td>\n",
       "    </tr>\n",
       "    <tr>\n",
       "      <th>1</th>\n",
       "      <td>Chinatown on Christmas Day</td>\n",
       "      <td>Dumb question:. Can I walk in to a restaurant ...</td>\n",
       "      <td>1</td>\n",
       "      <td>5.0</td>\n",
       "      <td>4.0</td>\n",
       "    </tr>\n",
       "    <tr>\n",
       "      <th>2</th>\n",
       "      <td>Hidden Gem: Hi Collar's Katsu Sando</td>\n",
       "      <td>notext</td>\n",
       "      <td>1</td>\n",
       "      <td>11.0</td>\n",
       "      <td>36.0</td>\n",
       "    </tr>\n",
       "    <tr>\n",
       "      <th>3</th>\n",
       "      <td>anybody want to open a restaurant in Howard be...</td>\n",
       "      <td>notext</td>\n",
       "      <td>1</td>\n",
       "      <td>0.0</td>\n",
       "      <td>0.0</td>\n",
       "    </tr>\n",
       "    <tr>\n",
       "      <th>4</th>\n",
       "      <td>Midtown/Hell's Kitchen Suggestions for a small...</td>\n",
       "      <td>Hey, I've got a group of six hanging around Mi...</td>\n",
       "      <td>1</td>\n",
       "      <td>5.0</td>\n",
       "      <td>1.0</td>\n",
       "    </tr>\n",
       "  </tbody>\n",
       "</table>\n",
       "</div>"
      ],
      "text/plain": [
       "                                               title  \\\n",
       "0               First timer looking for suggestions!   \n",
       "1                         Chinatown on Christmas Day   \n",
       "2                Hidden Gem: Hi Collar's Katsu Sando   \n",
       "3  anybody want to open a restaurant in Howard be...   \n",
       "4  Midtown/Hell's Kitchen Suggestions for a small...   \n",
       "\n",
       "                                            selftext  subreddit  num_comments  \\\n",
       "0  My boyfriend and I are going to NYC tomorrow t...          1          20.0   \n",
       "1  Dumb question:. Can I walk in to a restaurant ...          1           5.0   \n",
       "2                                             notext          1          11.0   \n",
       "3                                             notext          1           0.0   \n",
       "4  Hey, I've got a group of six hanging around Mi...          1           5.0   \n",
       "\n",
       "   score  \n",
       "0    5.0  \n",
       "1    4.0  \n",
       "2   36.0  \n",
       "3    0.0  \n",
       "4    1.0  "
      ]
     },
     "execution_count": 14,
     "metadata": {},
     "output_type": "execute_result"
    }
   ],
   "source": [
    "text_df = pd.read_csv(\"./reddit_text.csv\")\n",
    "text_df.head()"
   ]
  },
  {
   "cell_type": "markdown",
   "metadata": {},
   "source": [
    "#### Find the number of posts in each subreddit."
   ]
  },
  {
   "cell_type": "code",
   "execution_count": 9,
   "metadata": {},
   "outputs": [],
   "source": [
    "num_la = len(text_df[text_df['subreddit'] == 0])"
   ]
  },
  {
   "cell_type": "code",
   "execution_count": 10,
   "metadata": {},
   "outputs": [],
   "source": [
    "num_nyc = len(text_df[text_df['subreddit'] == 1])"
   ]
  },
  {
   "cell_type": "code",
   "execution_count": 11,
   "metadata": {},
   "outputs": [
    {
     "data": {
      "text/html": [
       "<div>\n",
       "<style scoped>\n",
       "    .dataframe tbody tr th:only-of-type {\n",
       "        vertical-align: middle;\n",
       "    }\n",
       "\n",
       "    .dataframe tbody tr th {\n",
       "        vertical-align: top;\n",
       "    }\n",
       "\n",
       "    .dataframe thead th {\n",
       "        text-align: right;\n",
       "    }\n",
       "</style>\n",
       "<table border=\"1\" class=\"dataframe\">\n",
       "  <thead>\n",
       "    <tr style=\"text-align: right;\">\n",
       "      <th></th>\n",
       "      <th>FoodNYC</th>\n",
       "      <th>FoodLosAngeles</th>\n",
       "    </tr>\n",
       "  </thead>\n",
       "  <tbody>\n",
       "    <tr>\n",
       "      <th>Number of posts</th>\n",
       "      <td>856</td>\n",
       "      <td>882</td>\n",
       "    </tr>\n",
       "  </tbody>\n",
       "</table>\n",
       "</div>"
      ],
      "text/plain": [
       "                 FoodNYC  FoodLosAngeles\n",
       "Number of posts      856             882"
      ]
     },
     "execution_count": 11,
     "metadata": {},
     "output_type": "execute_result"
    }
   ],
   "source": [
    "da = pd.DataFrame({'FoodNYC': [num_nyc], 'FoodLosAngeles': [num_la]})\n",
    "da.rename(index={0:'Number of posts'}, inplace=True) \n",
    "da"
   ]
  },
  {
   "cell_type": "markdown",
   "metadata": {},
   "source": [
    "#### Plot the number of posts in each subreddit."
   ]
  },
  {
   "cell_type": "code",
   "execution_count": 3,
   "metadata": {},
   "outputs": [
    {
     "data": {
      "image/png": "[encoded data removed]",
      "text/plain": [
       "<Figure size 504x432 with 1 Axes>"
      ]
     },
     "metadata": {
      "needs_background": "light"
     },
     "output_type": "display_data"
    }
   ],
   "source": [
    "plt.figure(figsize=(7,6))\n",
    "plt.bar(da.columns, da.loc['Number of posts'], width=0.8)\n",
    "plt.xlabel('Subreddit', size=18)\n",
    "plt.ylabel('Number of posts', size=18)\n",
    "plt.xticks(size=15)\n",
    "plt.yticks(size=15)\n",
    "plt.savefig('./number_of_posts.png', )"
   ]
  },
  {
   "cell_type": "markdown",
   "metadata": {},
   "source": [
    "#### Find the number of notext(null)."
   ]
  },
  {
   "cell_type": "code",
   "execution_count": 12,
   "metadata": {},
   "outputs": [
    {
     "data": {
      "text/plain": [
       "874"
      ]
     },
     "execution_count": 12,
     "metadata": {},
     "output_type": "execute_result"
    }
   ],
   "source": [
    "len(text_df[text_df['selftext'] == 'notext'])"
   ]
  },
  {
   "cell_type": "markdown",
   "metadata": {},
   "source": [
    "#### There are 874 nulls in 1738 posts. We will still keep this nulls since it might have some meaning"
   ]
  },
  {
   "cell_type": "markdown",
   "metadata": {},
   "source": [
    "### Let's clean the text (tokenize / lemmatize / stem)"
   ]
  },
  {
   "cell_type": "code",
   "execution_count": 16,
   "metadata": {},
   "outputs": [],
   "source": [
    "lemmatizer = WordNetLemmatizer()\n",
    "p_stemmer = PorterStemmer()"
   ]
  },
  {
   "cell_type": "markdown",
   "metadata": {},
   "source": [
    "#### Build a function that tokenize, lemmatize, and stem the posts."
   ]
  },
  {
   "cell_type": "code",
   "execution_count": 17,
   "metadata": {},
   "outputs": [],
   "source": [
    "def to_words(raw_text):\n",
    "    # Function to convert a raw title to a string of words\n",
    "    # The input is a single string (a raw title), and \n",
    "    # the output is a single string (a preprocessed title)\n",
    "    \n",
    "    # 1. Remove HTML\n",
    "    text = BeautifulSoup(raw_text).get_text()\n",
    "    \n",
    "    # 2. Remove non-letters        \n",
    "    letters_only = re.sub(\"[^a-zA-Z]\", \" \", text)\n",
    "    \n",
    "    # 3. Convert to lower case, split into individual words\n",
    "    words = letters_only.lower().split()\n",
    "    \n",
    "    # 4. In Python, searching a set is much faster than searching\n",
    "    #   a list, so convert the stop words to a set\n",
    "    stops = set(stopwords.words('english'))\n",
    "     \n",
    "    # 5. Remove stop words\n",
    "    meaningful_words = [w for w in words if not w in stops]\n",
    "    \n",
    "    # 6. Lemmetize the words.\n",
    "    tokens_lem = [lemmatizer.lemmatize(i) for i in meaningful_words]\n",
    "    \n",
    "    # 7. Stem the words.\n",
    "    tokens_stem = [p_stemmer.stem(i) for i in tokens_lem] \n",
    "    \n",
    "    # 8. Join the words back into one string separated by space, \n",
    "    # and return the result.\n",
    "    return(\" \".join(tokens_stem))"
   ]
  },
  {
   "cell_type": "code",
   "execution_count": 18,
   "metadata": {},
   "outputs": [],
   "source": [
    "# Initialize an empty list to hold the clean title.\n",
    "clean_title = []\n",
    "clean_selftext = []"
   ]
  },
  {
   "cell_type": "code",
   "execution_count": 19,
   "metadata": {},
   "outputs": [
    {
     "name": "stderr",
     "output_type": "stream",
     "text": [
      "/anaconda3/lib/python3.6/site-packages/bs4/__init__.py:336: UserWarning: \"http://gothamist.com/2017/10/30/latelier_de_joel_robuchon.php#photo-1\" looks like a URL. Beautiful Soup is not an HTTP client. You should probably use an HTTP client like requests to get the document behind the URL, and feed that document to Beautiful Soup.\n",
      "  ' that document to Beautiful Soup.' % decoded_markup\n",
      "/anaconda3/lib/python3.6/site-packages/bs4/__init__.py:336: UserWarning: \"http://www.ramenyokochous.com/\" looks like a URL. Beautiful Soup is not an HTTP client. You should probably use an HTTP client like requests to get the document behind the URL, and feed that document to Beautiful Soup.\n",
      "  ' that document to Beautiful Soup.' % decoded_markup\n"
     ]
    }
   ],
   "source": [
    "# Let's clean the text in training set.\n",
    "for title in text_df['title']:\n",
    "    # Convert title to words, then append to clean_train_title.\n",
    "    clean_title.append(to_words(title)) \n",
    "\n",
    "# Let's do the same for our testing set.\n",
    "for selftext in text_df['selftext']:\n",
    "    # Convert review to words, then append to clean_train_reviews.\n",
    "    clean_selftext.append(to_words(selftext))"
   ]
  },
  {
   "cell_type": "code",
   "execution_count": 20,
   "metadata": {},
   "outputs": [],
   "source": [
    "text_df['title'] = clean_title\n",
    "text_df['selftext'] = clean_selftext"
   ]
  },
  {
   "cell_type": "markdown",
   "metadata": {},
   "source": [
    "## Modeling"
   ]
  },
  {
   "cell_type": "markdown",
   "metadata": {},
   "source": [
    "### Train/test split"
   ]
  },
  {
   "cell_type": "code",
   "execution_count": 24,
   "metadata": {},
   "outputs": [],
   "source": [
    "features = ['selftext', 'title']\n",
    "X = text_df[features]\n",
    "y = text_df['subreddit']\n",
    "\n",
    "X_train, X_test, y_train, y_test = train_test_split(X,\n",
    "                                                    y,\n",
    "                                                    random_state = 42,\n",
    "                                                    stratify=y)"
   ]
  },
  {
   "cell_type": "code",
   "execution_count": 25,
   "metadata": {},
   "outputs": [],
   "source": [
    "# Add some stopwords.\n",
    "stopword = stopwords.words(\"english\")\n",
    "stopword = stopword + ['nyc', 'ny', 'new', 'york', 'ca', 'la', 'los', 'angeles']"
   ]
  },
  {
   "cell_type": "code",
   "execution_count": 26,
   "metadata": {},
   "outputs": [],
   "source": [
    "# Instantiate the \"CountVectorizer\" object.\n",
    "\n",
    "vectorizer = CountVectorizer(analyzer = \"word\",   \n",
    "                             tokenizer = None,    \n",
    "                             preprocessor = None, \n",
    "                             stop_words = stopword, \n",
    "                             ngram_range = (1,2),\n",
    "                             max_features = 5000) "
   ]
  },
  {
   "cell_type": "code",
   "execution_count": 27,
   "metadata": {},
   "outputs": [],
   "source": [
    "# Fit and transform CountVectorizer of each train and test set of 'title' and 'selftext.'\n",
    "\n",
    "clean_title_train_features = vectorizer.fit_transform(X_train['title'])\n",
    "title_X_train = pd.DataFrame(clean_title_train_features.toarray(), \n",
    "                             columns=vectorizer.get_feature_names())\n",
    "\n",
    "clean_title_test_features = vectorizer.transform(X_test['title'])\n",
    "title_X_test = pd.DataFrame(clean_title_test_features.toarray(), \n",
    "                             columns=vectorizer.get_feature_names())\n",
    "\n",
    "clean_selftext_train_features = vectorizer.fit_transform(X_train['selftext'])\n",
    "selftext_X_train = combined_X = pd.DataFrame(clean_selftext_train_features.toarray(), \n",
    "                                       columns=vectorizer.get_feature_names())\n",
    "\n",
    "clean_selftext_test_features = vectorizer.transform(X_test['selftext'])\n",
    "selftext_X_test = combined_X = pd.DataFrame(clean_selftext_test_features.toarray(), \n",
    "                                       columns=vectorizer.get_feature_names())"
   ]
  },
  {
   "cell_type": "code",
   "execution_count": 28,
   "metadata": {},
   "outputs": [],
   "source": [
    "# Combine 'title' and 'selftext' in train set.\n",
    "X_train_comb = pd.merge(title_X_train, \n",
    "                        selftext_X_train, \n",
    "                        left_index=True, right_index=True)"
   ]
  },
  {
   "cell_type": "code",
   "execution_count": 29,
   "metadata": {},
   "outputs": [],
   "source": [
    "# Combine 'title' and 'selftext' in test set.\n",
    "X_test_comb = pd.merge(title_X_test, \n",
    "                       selftext_X_test, \n",
    "                       left_index=True, right_index=True)"
   ]
  },
  {
   "cell_type": "markdown",
   "metadata": {},
   "source": [
    "### Logistic Regression"
   ]
  },
  {
   "cell_type": "code",
   "execution_count": 30,
   "metadata": {},
   "outputs": [],
   "source": [
    "import warnings\n",
    "warnings.simplefilter(action='ignore', category=FutureWarning)"
   ]
  },
  {
   "cell_type": "code",
   "execution_count": 221,
   "metadata": {},
   "outputs": [],
   "source": [
    "logreg = LogisticRegression()"
   ]
  },
  {
   "cell_type": "code",
   "execution_count": 222,
   "metadata": {},
   "outputs": [
    {
     "data": {
      "text/plain": [
       "0.7267828451365714"
      ]
     },
     "execution_count": 222,
     "metadata": {},
     "output_type": "execute_result"
    }
   ],
   "source": [
    "cross_val_score(logreg, X_train_comb, y_train).mean()"
   ]
  },
  {
   "cell_type": "code",
   "execution_count": 223,
   "metadata": {},
   "outputs": [
    {
     "data": {
      "text/plain": [
       "LogisticRegression(C=1.0, class_weight=None, dual=False, fit_intercept=True,\n",
       "          intercept_scaling=1, max_iter=100, multi_class='warn',\n",
       "          n_jobs=None, penalty='l2', random_state=None, solver='warn',\n",
       "          tol=0.0001, verbose=0, warm_start=False)"
      ]
     },
     "execution_count": 223,
     "metadata": {},
     "output_type": "execute_result"
    }
   ],
   "source": [
    "logreg.fit(X_train_comb, y_train)"
   ]
  },
  {
   "cell_type": "code",
   "execution_count": 224,
   "metadata": {},
   "outputs": [
    {
     "data": {
      "text/plain": [
       "0.735632183908046"
      ]
     },
     "execution_count": 224,
     "metadata": {},
     "output_type": "execute_result"
    }
   ],
   "source": [
    "logreg.score(X_test_comb, y_test)"
   ]
  },
  {
   "cell_type": "code",
   "execution_count": 227,
   "metadata": {
    "scrolled": false
   },
   "outputs": [
    {
     "name": "stderr",
     "output_type": "stream",
     "text": [
      "/anaconda3/lib/python3.6/site-packages/sklearn/svm/base.py:922: ConvergenceWarning: Liblinear failed to converge, increase the number of iterations.\n",
      "  \"the number of iterations.\", ConvergenceWarning)\n",
      "/anaconda3/lib/python3.6/site-packages/sklearn/svm/base.py:922: ConvergenceWarning: Liblinear failed to converge, increase the number of iterations.\n",
      "  \"the number of iterations.\", ConvergenceWarning)\n"
     ]
    },
    {
     "data": {
      "text/plain": [
       "GridSearchCV(cv=5, error_score='raise-deprecating',\n",
       "       estimator=LogisticRegression(C=1.0, class_weight=None, dual=False, fit_intercept=True,\n",
       "          intercept_scaling=1, max_iter=100, multi_class='warn',\n",
       "          n_jobs=None, penalty='l2', random_state=None, solver='warn',\n",
       "          tol=0.0001, verbose=0, warm_start=False),\n",
       "       fit_params=None, iid='warn', n_jobs=None,\n",
       "       param_grid={'penalty': ['l1', 'l2'], 'tol': [1e-06, 1e-05, 0.0001, 0.001, 0.01], 'C': [100, 10, 1, 0.1, 0.01]},\n",
       "       pre_dispatch='2*n_jobs', refit=True, return_train_score='warn',\n",
       "       scoring=None, verbose=0)"
      ]
     },
     "execution_count": 227,
     "metadata": {},
     "output_type": "execute_result"
    }
   ],
   "source": [
    "my_params = {\n",
    "    'penalty': ['l1', 'l2'],\n",
    "    'tol': [0.000001, 0.00001, 0.0001, 0.001, 0.01],\n",
    "    'C': [100, 10, 1, 0.1, 0.01],\n",
    "}\n",
    "gs = GridSearchCV(estimator=logreg, param_grid=my_params, cv=5)\n",
    "gs.fit(X_train_comb, y_train)"
   ]
  },
  {
   "cell_type": "code",
   "execution_count": 228,
   "metadata": {},
   "outputs": [
    {
     "data": {
      "text/plain": [
       "0.7221795855717574"
      ]
     },
     "execution_count": 228,
     "metadata": {},
     "output_type": "execute_result"
    }
   ],
   "source": [
    "gs.best_score_"
   ]
  },
  {
   "cell_type": "code",
   "execution_count": 229,
   "metadata": {},
   "outputs": [
    {
     "data": {
      "text/plain": [
       "{'C': 1, 'penalty': 'l2', 'tol': 1e-06}"
      ]
     },
     "execution_count": 229,
     "metadata": {},
     "output_type": "execute_result"
    }
   ],
   "source": [
    "gs.best_params_"
   ]
  },
  {
   "cell_type": "code",
   "execution_count": 231,
   "metadata": {
    "scrolled": true
   },
   "outputs": [
    {
     "data": {
      "text/plain": [
       "LogisticRegression(C=1.0, class_weight=None, dual=False, fit_intercept=True,\n",
       "          intercept_scaling=1, max_iter=100, multi_class='warn',\n",
       "          n_jobs=None, penalty='l2', random_state=None, solver='warn',\n",
       "          tol=1e-06, verbose=0, warm_start=False)"
      ]
     },
     "execution_count": 231,
     "metadata": {},
     "output_type": "execute_result"
    }
   ],
   "source": [
    "logreg.fit(X_train_comb, y_train)"
   ]
  },
  {
   "cell_type": "code",
   "execution_count": 266,
   "metadata": {},
   "outputs": [
    {
     "data": {
      "text/plain": [
       "0.9930928626247122"
      ]
     },
     "execution_count": 266,
     "metadata": {},
     "output_type": "execute_result"
    }
   ],
   "source": [
    "logreg.score(X_train_comb, y_train)"
   ]
  },
  {
   "cell_type": "code",
   "execution_count": 232,
   "metadata": {},
   "outputs": [
    {
     "data": {
      "text/plain": [
       "0.735632183908046"
      ]
     },
     "execution_count": 232,
     "metadata": {},
     "output_type": "execute_result"
    }
   ],
   "source": [
    "logreg.score(X_test_comb, y_test)"
   ]
  },
  {
   "cell_type": "code",
   "execution_count": 233,
   "metadata": {},
   "outputs": [
    {
     "data": {
      "text/plain": [
       "array([[ 8.87010068e-02, -7.94176694e-02,  9.34295321e-02, ...,\n",
       "         8.01272118e-02, -7.48772707e-02,  9.02715688e-08]])"
      ]
     },
     "execution_count": 233,
     "metadata": {},
     "output_type": "execute_result"
    }
   ],
   "source": [
    "logreg.coef_"
   ]
  },
  {
   "cell_type": "code",
   "execution_count": 234,
   "metadata": {},
   "outputs": [
    {
     "data": {
      "text/plain": [
       "Index(['abc', 'absolut_x', 'across_x', 'actual_x', 'add_x', 'advanc_x',\n",
       "       'advic_x', 'afford_x', 'age_x', 'aggreg',\n",
       "       ...\n",
       "       'yoyfq', 'yoyfq xzucm', 'yummi_y', 'zac', 'zac hartog', 'zagat', 'zha',\n",
       "       'zha jiang', 'zone_y', 'zoo'],\n",
       "      dtype='object', length=10000)"
      ]
     },
     "execution_count": 234,
     "metadata": {},
     "output_type": "execute_result"
    }
   ],
   "source": [
    "X_train_comb.columns"
   ]
  },
  {
   "cell_type": "code",
   "execution_count": 235,
   "metadata": {},
   "outputs": [],
   "source": [
    "coeff = pd.DataFrame(logreg.coef_, columns=X_train_comb.columns).T.sort_values(by=0, ascending=False)"
   ]
  },
  {
   "cell_type": "code",
   "execution_count": 236,
   "metadata": {},
   "outputs": [],
   "source": [
    "coeff['Ratio'] = coeff.apply(lambda row: np.exp(row[0]), axis=1)"
   ]
  },
  {
   "cell_type": "code",
   "execution_count": 237,
   "metadata": {},
   "outputs": [],
   "source": [
    "coeff.rename(columns={0:'coef'}, inplace=True)"
   ]
  },
  {
   "cell_type": "code",
   "execution_count": 238,
   "metadata": {},
   "outputs": [
    {
     "data": {
      "text/html": [
       "<div>\n",
       "<style scoped>\n",
       "    .dataframe tbody tr th:only-of-type {\n",
       "        vertical-align: middle;\n",
       "    }\n",
       "\n",
       "    .dataframe tbody tr th {\n",
       "        vertical-align: top;\n",
       "    }\n",
       "\n",
       "    .dataframe thead th {\n",
       "        text-align: right;\n",
       "    }\n",
       "</style>\n",
       "<table border=\"1\" class=\"dataframe\">\n",
       "  <thead>\n",
       "    <tr style=\"text-align: right;\">\n",
       "      <th></th>\n",
       "      <th>coef</th>\n",
       "      <th>Ratio</th>\n",
       "    </tr>\n",
       "  </thead>\n",
       "  <tbody>\n",
       "    <tr>\n",
       "      <th>queen_x</th>\n",
       "      <td>1.284857</td>\n",
       "      <td>3.614150</td>\n",
       "    </tr>\n",
       "    <tr>\n",
       "      <th>brooklyn_x</th>\n",
       "      <td>1.193415</td>\n",
       "      <td>3.298326</td>\n",
       "    </tr>\n",
       "    <tr>\n",
       "      <th>manhattan_y</th>\n",
       "      <td>1.184726</td>\n",
       "      <td>3.269790</td>\n",
       "    </tr>\n",
       "    <tr>\n",
       "      <th>manhattan_x</th>\n",
       "      <td>1.098074</td>\n",
       "      <td>2.998387</td>\n",
       "    </tr>\n",
       "    <tr>\n",
       "      <th>star_x</th>\n",
       "      <td>1.037864</td>\n",
       "      <td>2.823181</td>\n",
       "    </tr>\n",
       "    <tr>\n",
       "      <th>midtown_x</th>\n",
       "      <td>0.964834</td>\n",
       "      <td>2.624351</td>\n",
       "    </tr>\n",
       "    <tr>\n",
       "      <th>infatu_x</th>\n",
       "      <td>0.898597</td>\n",
       "      <td>2.456154</td>\n",
       "    </tr>\n",
       "    <tr>\n",
       "      <th>flush_x</th>\n",
       "      <td>0.873474</td>\n",
       "      <td>2.395217</td>\n",
       "    </tr>\n",
       "    <tr>\n",
       "      <th>ate_x</th>\n",
       "      <td>0.870936</td>\n",
       "      <td>2.389146</td>\n",
       "    </tr>\n",
       "    <tr>\n",
       "      <th>brooklyn_y</th>\n",
       "      <td>0.830597</td>\n",
       "      <td>2.294689</td>\n",
       "    </tr>\n",
       "    <tr>\n",
       "      <th>momofuku_x</th>\n",
       "      <td>0.826913</td>\n",
       "      <td>2.286250</td>\n",
       "    </tr>\n",
       "    <tr>\n",
       "      <th>omakas_x</th>\n",
       "      <td>0.825742</td>\n",
       "      <td>2.283574</td>\n",
       "    </tr>\n",
       "    <tr>\n",
       "      <th>cooki</th>\n",
       "      <td>0.818798</td>\n",
       "      <td>2.267773</td>\n",
       "    </tr>\n",
       "    <tr>\n",
       "      <th>top_x</th>\n",
       "      <td>0.805400</td>\n",
       "      <td>2.237592</td>\n",
       "    </tr>\n",
       "    <tr>\n",
       "      <th>bagel_x</th>\n",
       "      <td>0.724051</td>\n",
       "      <td>2.062773</td>\n",
       "    </tr>\n",
       "    <tr>\n",
       "      <th>chef_x</th>\n",
       "      <td>0.717650</td>\n",
       "      <td>2.049611</td>\n",
       "    </tr>\n",
       "    <tr>\n",
       "      <th>citi_x</th>\n",
       "      <td>0.713291</td>\n",
       "      <td>2.040697</td>\n",
       "    </tr>\n",
       "    <tr>\n",
       "      <th>nation_x</th>\n",
       "      <td>0.711701</td>\n",
       "      <td>2.037455</td>\n",
       "    </tr>\n",
       "    <tr>\n",
       "      <th>bar_x</th>\n",
       "      <td>0.701566</td>\n",
       "      <td>2.016908</td>\n",
       "    </tr>\n",
       "    <tr>\n",
       "      <th>th_y</th>\n",
       "      <td>0.700594</td>\n",
       "      <td>2.014950</td>\n",
       "    </tr>\n",
       "    <tr>\n",
       "      <th>citi_y</th>\n",
       "      <td>0.695378</td>\n",
       "      <td>2.004467</td>\n",
       "    </tr>\n",
       "    <tr>\n",
       "      <th>year_x</th>\n",
       "      <td>0.673903</td>\n",
       "      <td>1.961881</td>\n",
       "    </tr>\n",
       "    <tr>\n",
       "      <th>dinner_y</th>\n",
       "      <td>0.669331</td>\n",
       "      <td>1.952931</td>\n",
       "    </tr>\n",
       "    <tr>\n",
       "      <th>villag_x</th>\n",
       "      <td>0.663925</td>\n",
       "      <td>1.942401</td>\n",
       "    </tr>\n",
       "    <tr>\n",
       "      <th>tast_x</th>\n",
       "      <td>0.642144</td>\n",
       "      <td>1.900550</td>\n",
       "    </tr>\n",
       "    <tr>\n",
       "      <th>japanes_y</th>\n",
       "      <td>0.636651</td>\n",
       "      <td>1.890140</td>\n",
       "    </tr>\n",
       "    <tr>\n",
       "      <th>interest_y</th>\n",
       "      <td>0.634141</td>\n",
       "      <td>1.885403</td>\n",
       "    </tr>\n",
       "    <tr>\n",
       "      <th>walk_y</th>\n",
       "      <td>0.631170</td>\n",
       "      <td>1.879808</td>\n",
       "    </tr>\n",
       "    <tr>\n",
       "      <th>food fest</th>\n",
       "      <td>0.629443</td>\n",
       "      <td>1.876565</td>\n",
       "    </tr>\n",
       "    <tr>\n",
       "      <th>review_x</th>\n",
       "      <td>0.622338</td>\n",
       "      <td>1.863279</td>\n",
       "    </tr>\n",
       "    <tr>\n",
       "      <th>kitchen_x</th>\n",
       "      <td>0.617971</td>\n",
       "      <td>1.855161</td>\n",
       "    </tr>\n",
       "    <tr>\n",
       "      <th>chinatown_x</th>\n",
       "      <td>0.613389</td>\n",
       "      <td>1.846678</td>\n",
       "    </tr>\n",
       "    <tr>\n",
       "      <th>hous_x</th>\n",
       "      <td>0.612178</td>\n",
       "      <td>1.844444</td>\n",
       "    </tr>\n",
       "    <tr>\n",
       "      <th>rib_y</th>\n",
       "      <td>0.607110</td>\n",
       "      <td>1.835121</td>\n",
       "    </tr>\n",
       "    <tr>\n",
       "      <th>delici_x</th>\n",
       "      <td>0.605147</td>\n",
       "      <td>1.831522</td>\n",
       "    </tr>\n",
       "    <tr>\n",
       "      <th>michelin_x</th>\n",
       "      <td>0.602918</td>\n",
       "      <td>1.827444</td>\n",
       "    </tr>\n",
       "    <tr>\n",
       "      <th>balut</th>\n",
       "      <td>0.598422</td>\n",
       "      <td>1.819245</td>\n",
       "    </tr>\n",
       "    <tr>\n",
       "      <th>le_x</th>\n",
       "      <td>0.597363</td>\n",
       "      <td>1.817321</td>\n",
       "    </tr>\n",
       "    <tr>\n",
       "      <th>th_x</th>\n",
       "      <td>0.593706</td>\n",
       "      <td>1.810686</td>\n",
       "    </tr>\n",
       "    <tr>\n",
       "      <th>east_x</th>\n",
       "      <td>0.582678</td>\n",
       "      <td>1.790828</td>\n",
       "    </tr>\n",
       "    <tr>\n",
       "      <th>tour_x</th>\n",
       "      <td>0.582156</td>\n",
       "      <td>1.789894</td>\n",
       "    </tr>\n",
       "    <tr>\n",
       "      <th>vegan_x</th>\n",
       "      <td>0.579962</td>\n",
       "      <td>1.785971</td>\n",
       "    </tr>\n",
       "    <tr>\n",
       "      <th>tomorrow_x</th>\n",
       "      <td>0.574430</td>\n",
       "      <td>1.776117</td>\n",
       "    </tr>\n",
       "    <tr>\n",
       "      <th>gramerci</th>\n",
       "      <td>0.565629</td>\n",
       "      <td>1.760554</td>\n",
       "    </tr>\n",
       "    <tr>\n",
       "      <th>chines_y</th>\n",
       "      <td>0.564332</td>\n",
       "      <td>1.758273</td>\n",
       "    </tr>\n",
       "    <tr>\n",
       "      <th>trend_x</th>\n",
       "      <td>0.563849</td>\n",
       "      <td>1.757424</td>\n",
       "    </tr>\n",
       "    <tr>\n",
       "      <th>restaur week_x</th>\n",
       "      <td>0.561547</td>\n",
       "      <td>1.753382</td>\n",
       "    </tr>\n",
       "    <tr>\n",
       "      <th>italian_y</th>\n",
       "      <td>0.551721</td>\n",
       "      <td>1.736239</td>\n",
       "    </tr>\n",
       "    <tr>\n",
       "      <th>foodnyc_y</th>\n",
       "      <td>0.543630</td>\n",
       "      <td>1.722247</td>\n",
       "    </tr>\n",
       "    <tr>\n",
       "      <th>pancak_x</th>\n",
       "      <td>0.541458</td>\n",
       "      <td>1.718511</td>\n",
       "    </tr>\n",
       "  </tbody>\n",
       "</table>\n",
       "</div>"
      ],
      "text/plain": [
       "                    coef     Ratio\n",
       "queen_x         1.284857  3.614150\n",
       "brooklyn_x      1.193415  3.298326\n",
       "manhattan_y     1.184726  3.269790\n",
       "manhattan_x     1.098074  2.998387\n",
       "star_x          1.037864  2.823181\n",
       "midtown_x       0.964834  2.624351\n",
       "infatu_x        0.898597  2.456154\n",
       "flush_x         0.873474  2.395217\n",
       "ate_x           0.870936  2.389146\n",
       "brooklyn_y      0.830597  2.294689\n",
       "momofuku_x      0.826913  2.286250\n",
       "omakas_x        0.825742  2.283574\n",
       "cooki           0.818798  2.267773\n",
       "top_x           0.805400  2.237592\n",
       "bagel_x         0.724051  2.062773\n",
       "chef_x          0.717650  2.049611\n",
       "citi_x          0.713291  2.040697\n",
       "nation_x        0.711701  2.037455\n",
       "bar_x           0.701566  2.016908\n",
       "th_y            0.700594  2.014950\n",
       "citi_y          0.695378  2.004467\n",
       "year_x          0.673903  1.961881\n",
       "dinner_y        0.669331  1.952931\n",
       "villag_x        0.663925  1.942401\n",
       "tast_x          0.642144  1.900550\n",
       "japanes_y       0.636651  1.890140\n",
       "interest_y      0.634141  1.885403\n",
       "walk_y          0.631170  1.879808\n",
       "food fest       0.629443  1.876565\n",
       "review_x        0.622338  1.863279\n",
       "kitchen_x       0.617971  1.855161\n",
       "chinatown_x     0.613389  1.846678\n",
       "hous_x          0.612178  1.844444\n",
       "rib_y           0.607110  1.835121\n",
       "delici_x        0.605147  1.831522\n",
       "michelin_x      0.602918  1.827444\n",
       "balut           0.598422  1.819245\n",
       "le_x            0.597363  1.817321\n",
       "th_x            0.593706  1.810686\n",
       "east_x          0.582678  1.790828\n",
       "tour_x          0.582156  1.789894\n",
       "vegan_x         0.579962  1.785971\n",
       "tomorrow_x      0.574430  1.776117\n",
       "gramerci        0.565629  1.760554\n",
       "chines_y        0.564332  1.758273\n",
       "trend_x         0.563849  1.757424\n",
       "restaur week_x  0.561547  1.753382\n",
       "italian_y       0.551721  1.736239\n",
       "foodnyc_y       0.543630  1.722247\n",
       "pancak_x        0.541458  1.718511"
      ]
     },
     "execution_count": 238,
     "metadata": {},
     "output_type": "execute_result"
    }
   ],
   "source": [
    "coeff.head(50)"
   ]
  },
  {
   "cell_type": "code",
   "execution_count": 239,
   "metadata": {},
   "outputs": [
    {
     "data": {
      "text/html": [
       "<div>\n",
       "<style scoped>\n",
       "    .dataframe tbody tr th:only-of-type {\n",
       "        vertical-align: middle;\n",
       "    }\n",
       "\n",
       "    .dataframe tbody tr th {\n",
       "        vertical-align: top;\n",
       "    }\n",
       "\n",
       "    .dataframe thead th {\n",
       "        text-align: right;\n",
       "    }\n",
       "</style>\n",
       "<table border=\"1\" class=\"dataframe\">\n",
       "  <thead>\n",
       "    <tr style=\"text-align: right;\">\n",
       "      <th></th>\n",
       "      <th>coef</th>\n",
       "      <th>Ratio</th>\n",
       "    </tr>\n",
       "  </thead>\n",
       "  <tbody>\n",
       "    <tr>\n",
       "      <th>poke</th>\n",
       "      <td>-0.431906</td>\n",
       "      <td>0.649271</td>\n",
       "    </tr>\n",
       "    <tr>\n",
       "      <th>silverlak_x</th>\n",
       "      <td>-0.432159</td>\n",
       "      <td>0.649106</td>\n",
       "    </tr>\n",
       "    <tr>\n",
       "      <th>eatali_x</th>\n",
       "      <td>-0.432573</td>\n",
       "      <td>0.648837</td>\n",
       "    </tr>\n",
       "    <tr>\n",
       "      <th>chees_y</th>\n",
       "      <td>-0.433541</td>\n",
       "      <td>0.648210</td>\n",
       "    </tr>\n",
       "    <tr>\n",
       "      <th>restaur_y</th>\n",
       "      <td>-0.434931</td>\n",
       "      <td>0.647309</td>\n",
       "    </tr>\n",
       "    <tr>\n",
       "      <th>go anywher</th>\n",
       "      <td>-0.437663</td>\n",
       "      <td>0.645543</td>\n",
       "    </tr>\n",
       "    <tr>\n",
       "      <th>porn</th>\n",
       "      <td>-0.438244</td>\n",
       "      <td>0.645169</td>\n",
       "    </tr>\n",
       "    <tr>\n",
       "      <th>mind</th>\n",
       "      <td>-0.438509</td>\n",
       "      <td>0.644997</td>\n",
       "    </tr>\n",
       "    <tr>\n",
       "      <th>bay_x</th>\n",
       "      <td>-0.439988</td>\n",
       "      <td>0.644044</td>\n",
       "    </tr>\n",
       "    <tr>\n",
       "      <th>univers_x</th>\n",
       "      <td>-0.446460</td>\n",
       "      <td>0.639889</td>\n",
       "    </tr>\n",
       "    <tr>\n",
       "      <th>seri_x</th>\n",
       "      <td>-0.449894</td>\n",
       "      <td>0.637696</td>\n",
       "    </tr>\n",
       "    <tr>\n",
       "      <th>cake_x</th>\n",
       "      <td>-0.450261</td>\n",
       "      <td>0.637462</td>\n",
       "    </tr>\n",
       "    <tr>\n",
       "      <th>add_x</th>\n",
       "      <td>-0.450766</td>\n",
       "      <td>0.637140</td>\n",
       "    </tr>\n",
       "    <tr>\n",
       "      <th>think_y</th>\n",
       "      <td>-0.453800</td>\n",
       "      <td>0.635210</td>\n",
       "    </tr>\n",
       "    <tr>\n",
       "      <th>near_x</th>\n",
       "      <td>-0.454580</td>\n",
       "      <td>0.634715</td>\n",
       "    </tr>\n",
       "    <tr>\n",
       "      <th>losangel</th>\n",
       "      <td>-0.461684</td>\n",
       "      <td>0.630222</td>\n",
       "    </tr>\n",
       "    <tr>\n",
       "      <th>fri_x</th>\n",
       "      <td>-0.462211</td>\n",
       "      <td>0.629890</td>\n",
       "    </tr>\n",
       "    <tr>\n",
       "      <th>yet_y</th>\n",
       "      <td>-0.462345</td>\n",
       "      <td>0.629805</td>\n",
       "    </tr>\n",
       "    <tr>\n",
       "      <th>pink_x</th>\n",
       "      <td>-0.467631</td>\n",
       "      <td>0.626485</td>\n",
       "    </tr>\n",
       "    <tr>\n",
       "      <th>move_y</th>\n",
       "      <td>-0.468149</td>\n",
       "      <td>0.626160</td>\n",
       "    </tr>\n",
       "    <tr>\n",
       "      <th>order_y</th>\n",
       "      <td>-0.470060</td>\n",
       "      <td>0.624965</td>\n",
       "    </tr>\n",
       "    <tr>\n",
       "      <th>shake_x</th>\n",
       "      <td>-0.470392</td>\n",
       "      <td>0.624757</td>\n",
       "    </tr>\n",
       "    <tr>\n",
       "      <th>lake_x</th>\n",
       "      <td>-0.470782</td>\n",
       "      <td>0.624514</td>\n",
       "    </tr>\n",
       "    <tr>\n",
       "      <th>sausag_x</th>\n",
       "      <td>-0.474226</td>\n",
       "      <td>0.622367</td>\n",
       "    </tr>\n",
       "    <tr>\n",
       "      <th>alcohol</th>\n",
       "      <td>-0.474499</td>\n",
       "      <td>0.622197</td>\n",
       "    </tr>\n",
       "    <tr>\n",
       "      <th>bazaar</th>\n",
       "      <td>-0.475941</td>\n",
       "      <td>0.621300</td>\n",
       "    </tr>\n",
       "    <tr>\n",
       "      <th>ice_x</th>\n",
       "      <td>-0.476402</td>\n",
       "      <td>0.621014</td>\n",
       "    </tr>\n",
       "    <tr>\n",
       "      <th>venic_y</th>\n",
       "      <td>-0.476552</td>\n",
       "      <td>0.620921</td>\n",
       "    </tr>\n",
       "    <tr>\n",
       "      <th>happen_x</th>\n",
       "      <td>-0.477368</td>\n",
       "      <td>0.620414</td>\n",
       "    </tr>\n",
       "    <tr>\n",
       "      <th>monica_x</th>\n",
       "      <td>-0.479121</td>\n",
       "      <td>0.619327</td>\n",
       "    </tr>\n",
       "    <tr>\n",
       "      <th>...</th>\n",
       "      <td>...</td>\n",
       "      <td>...</td>\n",
       "    </tr>\n",
       "    <tr>\n",
       "      <th>els_x</th>\n",
       "      <td>-0.566268</td>\n",
       "      <td>0.567640</td>\n",
       "    </tr>\n",
       "    <tr>\n",
       "      <th>hype_x</th>\n",
       "      <td>-0.570976</td>\n",
       "      <td>0.564974</td>\n",
       "    </tr>\n",
       "    <tr>\n",
       "      <th>sgv_y</th>\n",
       "      <td>-0.578859</td>\n",
       "      <td>0.560538</td>\n",
       "    </tr>\n",
       "    <tr>\n",
       "      <th>west_y</th>\n",
       "      <td>-0.594090</td>\n",
       "      <td>0.552065</td>\n",
       "    </tr>\n",
       "    <tr>\n",
       "      <th>idea_y</th>\n",
       "      <td>-0.602359</td>\n",
       "      <td>0.547519</td>\n",
       "    </tr>\n",
       "    <tr>\n",
       "      <th>someon_x</th>\n",
       "      <td>-0.613647</td>\n",
       "      <td>0.541373</td>\n",
       "    </tr>\n",
       "    <tr>\n",
       "      <th>market_x</th>\n",
       "      <td>-0.621187</td>\n",
       "      <td>0.537306</td>\n",
       "    </tr>\n",
       "    <tr>\n",
       "      <th>best place_x</th>\n",
       "      <td>-0.623849</td>\n",
       "      <td>0.535878</td>\n",
       "    </tr>\n",
       "    <tr>\n",
       "      <th>beach_x</th>\n",
       "      <td>-0.630167</td>\n",
       "      <td>0.532503</td>\n",
       "    </tr>\n",
       "    <tr>\n",
       "      <th>everi_y</th>\n",
       "      <td>-0.650487</td>\n",
       "      <td>0.521792</td>\n",
       "    </tr>\n",
       "    <tr>\n",
       "      <th>drive_y</th>\n",
       "      <td>-0.654107</td>\n",
       "      <td>0.519906</td>\n",
       "    </tr>\n",
       "    <tr>\n",
       "      <th>santa_x</th>\n",
       "      <td>-0.654389</td>\n",
       "      <td>0.519760</td>\n",
       "    </tr>\n",
       "    <tr>\n",
       "      <th>sgv_x</th>\n",
       "      <td>-0.660629</td>\n",
       "      <td>0.516526</td>\n",
       "    </tr>\n",
       "    <tr>\n",
       "      <th>potato</th>\n",
       "      <td>-0.672024</td>\n",
       "      <td>0.510674</td>\n",
       "    </tr>\n",
       "    <tr>\n",
       "      <th>pasadena_x</th>\n",
       "      <td>-0.675036</td>\n",
       "      <td>0.509138</td>\n",
       "    </tr>\n",
       "    <tr>\n",
       "      <th>tsujita</th>\n",
       "      <td>-0.684582</td>\n",
       "      <td>0.504301</td>\n",
       "    </tr>\n",
       "    <tr>\n",
       "      <th>favorit_x</th>\n",
       "      <td>-0.702077</td>\n",
       "      <td>0.495555</td>\n",
       "    </tr>\n",
       "    <tr>\n",
       "      <th>donut_x</th>\n",
       "      <td>-0.718778</td>\n",
       "      <td>0.487348</td>\n",
       "    </tr>\n",
       "    <tr>\n",
       "      <th>anybodi_x</th>\n",
       "      <td>-0.735384</td>\n",
       "      <td>0.479321</td>\n",
       "    </tr>\n",
       "    <tr>\n",
       "      <th>downtown_x</th>\n",
       "      <td>-0.755734</td>\n",
       "      <td>0.469666</td>\n",
       "    </tr>\n",
       "    <tr>\n",
       "      <th>malibu_x</th>\n",
       "      <td>-0.792081</td>\n",
       "      <td>0.452901</td>\n",
       "    </tr>\n",
       "    <tr>\n",
       "      <th>hollywood_x</th>\n",
       "      <td>-0.828726</td>\n",
       "      <td>0.436605</td>\n",
       "    </tr>\n",
       "    <tr>\n",
       "      <th>cafe_x</th>\n",
       "      <td>-0.829404</td>\n",
       "      <td>0.436309</td>\n",
       "    </tr>\n",
       "    <tr>\n",
       "      <th>dtla_x</th>\n",
       "      <td>-0.903211</td>\n",
       "      <td>0.405266</td>\n",
       "    </tr>\n",
       "    <tr>\n",
       "      <th>area_y</th>\n",
       "      <td>-0.905010</td>\n",
       "      <td>0.404538</td>\n",
       "    </tr>\n",
       "    <tr>\n",
       "      <th>town_x</th>\n",
       "      <td>-0.929813</td>\n",
       "      <td>0.394628</td>\n",
       "    </tr>\n",
       "    <tr>\n",
       "      <th>lo angel_x</th>\n",
       "      <td>-1.158871</td>\n",
       "      <td>0.313840</td>\n",
       "    </tr>\n",
       "    <tr>\n",
       "      <th>angel_x</th>\n",
       "      <td>-1.209159</td>\n",
       "      <td>0.298448</td>\n",
       "    </tr>\n",
       "    <tr>\n",
       "      <th>lo_x</th>\n",
       "      <td>-1.289076</td>\n",
       "      <td>0.275525</td>\n",
       "    </tr>\n",
       "    <tr>\n",
       "      <th>taco_x</th>\n",
       "      <td>-1.696815</td>\n",
       "      <td>0.183266</td>\n",
       "    </tr>\n",
       "  </tbody>\n",
       "</table>\n",
       "<p>100 rows × 2 columns</p>\n",
       "</div>"
      ],
      "text/plain": [
       "                  coef     Ratio\n",
       "poke         -0.431906  0.649271\n",
       "silverlak_x  -0.432159  0.649106\n",
       "eatali_x     -0.432573  0.648837\n",
       "chees_y      -0.433541  0.648210\n",
       "restaur_y    -0.434931  0.647309\n",
       "go anywher   -0.437663  0.645543\n",
       "porn         -0.438244  0.645169\n",
       "mind         -0.438509  0.644997\n",
       "bay_x        -0.439988  0.644044\n",
       "univers_x    -0.446460  0.639889\n",
       "seri_x       -0.449894  0.637696\n",
       "cake_x       -0.450261  0.637462\n",
       "add_x        -0.450766  0.637140\n",
       "think_y      -0.453800  0.635210\n",
       "near_x       -0.454580  0.634715\n",
       "losangel     -0.461684  0.630222\n",
       "fri_x        -0.462211  0.629890\n",
       "yet_y        -0.462345  0.629805\n",
       "pink_x       -0.467631  0.626485\n",
       "move_y       -0.468149  0.626160\n",
       "order_y      -0.470060  0.624965\n",
       "shake_x      -0.470392  0.624757\n",
       "lake_x       -0.470782  0.624514\n",
       "sausag_x     -0.474226  0.622367\n",
       "alcohol      -0.474499  0.622197\n",
       "bazaar       -0.475941  0.621300\n",
       "ice_x        -0.476402  0.621014\n",
       "venic_y      -0.476552  0.620921\n",
       "happen_x     -0.477368  0.620414\n",
       "monica_x     -0.479121  0.619327\n",
       "...                ...       ...\n",
       "els_x        -0.566268  0.567640\n",
       "hype_x       -0.570976  0.564974\n",
       "sgv_y        -0.578859  0.560538\n",
       "west_y       -0.594090  0.552065\n",
       "idea_y       -0.602359  0.547519\n",
       "someon_x     -0.613647  0.541373\n",
       "market_x     -0.621187  0.537306\n",
       "best place_x -0.623849  0.535878\n",
       "beach_x      -0.630167  0.532503\n",
       "everi_y      -0.650487  0.521792\n",
       "drive_y      -0.654107  0.519906\n",
       "santa_x      -0.654389  0.519760\n",
       "sgv_x        -0.660629  0.516526\n",
       "potato       -0.672024  0.510674\n",
       "pasadena_x   -0.675036  0.509138\n",
       "tsujita      -0.684582  0.504301\n",
       "favorit_x    -0.702077  0.495555\n",
       "donut_x      -0.718778  0.487348\n",
       "anybodi_x    -0.735384  0.479321\n",
       "downtown_x   -0.755734  0.469666\n",
       "malibu_x     -0.792081  0.452901\n",
       "hollywood_x  -0.828726  0.436605\n",
       "cafe_x       -0.829404  0.436309\n",
       "dtla_x       -0.903211  0.405266\n",
       "area_y       -0.905010  0.404538\n",
       "town_x       -0.929813  0.394628\n",
       "lo angel_x   -1.158871  0.313840\n",
       "angel_x      -1.209159  0.298448\n",
       "lo_x         -1.289076  0.275525\n",
       "taco_x       -1.696815  0.183266\n",
       "\n",
       "[100 rows x 2 columns]"
      ]
     },
     "execution_count": 239,
     "metadata": {},
     "output_type": "execute_result"
    }
   ],
   "source": [
    "coeff.tail(100)"
   ]
  },
  {
   "cell_type": "markdown",
   "metadata": {},
   "source": [
    "### Randomforest and Extrtrees"
   ]
  },
  {
   "cell_type": "code",
   "execution_count": 251,
   "metadata": {},
   "outputs": [],
   "source": [
    "rf = RandomForestClassifier()\n",
    "et = ExtraTreesClassifier()"
   ]
  },
  {
   "cell_type": "code",
   "execution_count": 252,
   "metadata": {},
   "outputs": [
    {
     "data": {
      "text/plain": [
       "0.6470209659312054"
      ]
     },
     "execution_count": 252,
     "metadata": {},
     "output_type": "execute_result"
    }
   ],
   "source": [
    "cross_val_score(rf, X_train_comb, y_train, cv=5).mean()"
   ]
  },
  {
   "cell_type": "code",
   "execution_count": 253,
   "metadata": {},
   "outputs": [
    {
     "data": {
      "text/plain": [
       "0.6731130774405321"
      ]
     },
     "execution_count": 253,
     "metadata": {},
     "output_type": "execute_result"
    }
   ],
   "source": [
    "cross_val_score(et, X_train_comb, y_train, cv=5).mean()"
   ]
  },
  {
   "cell_type": "code",
   "execution_count": 254,
   "metadata": {},
   "outputs": [],
   "source": [
    "my_paramss = {\n",
    "    \"n_estimators\": [10, 20, 50, 100], \n",
    "    'max_depth': [None, 2, 3, 4],\n",
    "    'max_features': ['auto', 0.5]    \n",
    "}\n",
    "gs = GridSearchCV(rf, param_grid=my_paramss, cv=5)"
   ]
  },
  {
   "cell_type": "code",
   "execution_count": 255,
   "metadata": {},
   "outputs": [
    {
     "data": {
      "text/plain": [
       "GridSearchCV(cv=5, error_score='raise-deprecating',\n",
       "       estimator=RandomForestClassifier(bootstrap=True, class_weight=None, criterion='gini',\n",
       "            max_depth=None, max_features='auto', max_leaf_nodes=None,\n",
       "            min_impurity_decrease=0.0, min_impurity_split=None,\n",
       "            min_samples_leaf=1, min_samples_split=2,\n",
       "            min_weight_fraction_leaf=0.0, n_estimators='warn', n_jobs=None,\n",
       "            oob_score=False, random_state=None, verbose=0,\n",
       "            warm_start=False),\n",
       "       fit_params=None, iid='warn', n_jobs=None,\n",
       "       param_grid={'n_estimators': [10, 20, 50, 100], 'max_depth': [None, 2, 3, 4], 'max_features': ['auto', 0.5]},\n",
       "       pre_dispatch='2*n_jobs', refit=True, return_train_score='warn',\n",
       "       scoring=None, verbose=0)"
      ]
     },
     "execution_count": 255,
     "metadata": {},
     "output_type": "execute_result"
    }
   ],
   "source": [
    "gs.fit(X_train_comb, y_train)"
   ]
  },
  {
   "cell_type": "code",
   "execution_count": 256,
   "metadata": {},
   "outputs": [
    {
     "data": {
      "text/plain": [
       "0.6784343821949348"
      ]
     },
     "execution_count": 256,
     "metadata": {},
     "output_type": "execute_result"
    }
   ],
   "source": [
    "gs.best_score_"
   ]
  },
  {
   "cell_type": "code",
   "execution_count": 257,
   "metadata": {},
   "outputs": [
    {
     "data": {
      "text/plain": [
       "{'max_depth': None, 'max_features': 'auto', 'n_estimators': 20}"
      ]
     },
     "execution_count": 257,
     "metadata": {},
     "output_type": "execute_result"
    }
   ],
   "source": [
    "gs.best_params_"
   ]
  },
  {
   "cell_type": "code",
   "execution_count": 262,
   "metadata": {},
   "outputs": [],
   "source": [
    "rf = RandomForestClassifier(n_estimators=20)"
   ]
  },
  {
   "cell_type": "code",
   "execution_count": 263,
   "metadata": {},
   "outputs": [
    {
     "data": {
      "text/plain": [
       "RandomForestClassifier(bootstrap=True, class_weight=None, criterion='gini',\n",
       "            max_depth=None, max_features='auto', max_leaf_nodes=None,\n",
       "            min_impurity_decrease=0.0, min_impurity_split=None,\n",
       "            min_samples_leaf=1, min_samples_split=2,\n",
       "            min_weight_fraction_leaf=0.0, n_estimators=20, n_jobs=None,\n",
       "            oob_score=False, random_state=None, verbose=0,\n",
       "            warm_start=False)"
      ]
     },
     "execution_count": 263,
     "metadata": {},
     "output_type": "execute_result"
    }
   ],
   "source": [
    "rf.fit(X_train_comb, y_train)"
   ]
  },
  {
   "cell_type": "code",
   "execution_count": 264,
   "metadata": {},
   "outputs": [
    {
     "data": {
      "text/plain": [
       "0.6620689655172414"
      ]
     },
     "execution_count": 264,
     "metadata": {},
     "output_type": "execute_result"
    }
   ],
   "source": [
    "rf.score(X_test_comb, y_test)"
   ]
  },
  {
   "cell_type": "code",
   "execution_count": 265,
   "metadata": {},
   "outputs": [
    {
     "data": {
      "text/plain": [
       "0.9969301611665388"
      ]
     },
     "execution_count": 265,
     "metadata": {},
     "output_type": "execute_result"
    }
   ],
   "source": [
    "rf.score(X_train_comb, y_train)"
   ]
  },
  {
   "cell_type": "code",
   "execution_count": 51,
   "metadata": {},
   "outputs": [],
   "source": [
    "svc = svm.SVC()"
   ]
  },
  {
   "cell_type": "code",
   "execution_count": 53,
   "metadata": {},
   "outputs": [
    {
     "data": {
      "text/plain": [
       "SVC(C=1.0, cache_size=200, class_weight=None, coef0=0.0,\n",
       "  decision_function_shape='ovr', degree=3, gamma='auto_deprecated',\n",
       "  kernel='rbf', max_iter=-1, probability=False, random_state=None,\n",
       "  shrinking=True, tol=0.001, verbose=False)"
      ]
     },
     "execution_count": 53,
     "metadata": {},
     "output_type": "execute_result"
    }
   ],
   "source": [
    "svc.fit(X_train_comb, y_train)"
   ]
  },
  {
   "cell_type": "code",
   "execution_count": 56,
   "metadata": {},
   "outputs": [],
   "source": [
    "my_param = {\n",
    "    'C': [0.01, 0.1, 1, 10],\n",
    "    'kernel': ['rbf']#, 'linear', 'poly']\n",
    "}\n",
    "gs = GridSearchCV(svc, param_grid=my_param, cv=5)"
   ]
  },
  {
   "cell_type": "code",
   "execution_count": 57,
   "metadata": {},
   "outputs": [
    {
     "ename": "KeyboardInterrupt",
     "evalue": "",
     "output_type": "error",
     "traceback": [
      "\u001b[0;31m---------------------------------------------------------------------------\u001b[0m",
      "\u001b[0;31mKeyboardInterrupt\u001b[0m                         Traceback (most recent call last)",
      "\u001b[0;32m<ipython-input-57-5a0cfb5a30c6>\u001b[0m in \u001b[0;36m<module>\u001b[0;34m\u001b[0m\n\u001b[0;32m----> 1\u001b[0;31m \u001b[0mgs\u001b[0m\u001b[0;34m.\u001b[0m\u001b[0mfit\u001b[0m\u001b[0;34m(\u001b[0m\u001b[0mX_train_comb\u001b[0m\u001b[0;34m,\u001b[0m \u001b[0my_train\u001b[0m\u001b[0;34m)\u001b[0m\u001b[0;34m\u001b[0m\u001b[0m\n\u001b[0m",
      "\u001b[0;32m/anaconda3/lib/python3.6/site-packages/sklearn/model_selection/_search.py\u001b[0m in \u001b[0;36mfit\u001b[0;34m(self, X, y, groups, **fit_params)\u001b[0m\n\u001b[1;32m    720\u001b[0m                 \u001b[0;32mreturn\u001b[0m \u001b[0mresults_container\u001b[0m\u001b[0;34m[\u001b[0m\u001b[0;36m0\u001b[0m\u001b[0;34m]\u001b[0m\u001b[0;34m\u001b[0m\u001b[0m\n\u001b[1;32m    721\u001b[0m \u001b[0;34m\u001b[0m\u001b[0m\n\u001b[0;32m--> 722\u001b[0;31m             \u001b[0mself\u001b[0m\u001b[0;34m.\u001b[0m\u001b[0m_run_search\u001b[0m\u001b[0;34m(\u001b[0m\u001b[0mevaluate_candidates\u001b[0m\u001b[0;34m)\u001b[0m\u001b[0;34m\u001b[0m\u001b[0m\n\u001b[0m\u001b[1;32m    723\u001b[0m \u001b[0;34m\u001b[0m\u001b[0m\n\u001b[1;32m    724\u001b[0m         \u001b[0mresults\u001b[0m \u001b[0;34m=\u001b[0m \u001b[0mresults_container\u001b[0m\u001b[0;34m[\u001b[0m\u001b[0;36m0\u001b[0m\u001b[0;34m]\u001b[0m\u001b[0;34m\u001b[0m\u001b[0m\n",
      "\u001b[0;32m/anaconda3/lib/python3.6/site-packages/sklearn/model_selection/_search.py\u001b[0m in \u001b[0;36m_run_search\u001b[0;34m(self, evaluate_candidates)\u001b[0m\n\u001b[1;32m   1189\u001b[0m     \u001b[0;32mdef\u001b[0m \u001b[0m_run_search\u001b[0m\u001b[0;34m(\u001b[0m\u001b[0mself\u001b[0m\u001b[0;34m,\u001b[0m \u001b[0mevaluate_candidates\u001b[0m\u001b[0;34m)\u001b[0m\u001b[0;34m:\u001b[0m\u001b[0;34m\u001b[0m\u001b[0m\n\u001b[1;32m   1190\u001b[0m         \u001b[0;34m\"\"\"Search all candidates in param_grid\"\"\"\u001b[0m\u001b[0;34m\u001b[0m\u001b[0m\n\u001b[0;32m-> 1191\u001b[0;31m         \u001b[0mevaluate_candidates\u001b[0m\u001b[0;34m(\u001b[0m\u001b[0mParameterGrid\u001b[0m\u001b[0;34m(\u001b[0m\u001b[0mself\u001b[0m\u001b[0;34m.\u001b[0m\u001b[0mparam_grid\u001b[0m\u001b[0;34m)\u001b[0m\u001b[0;34m)\u001b[0m\u001b[0;34m\u001b[0m\u001b[0m\n\u001b[0m\u001b[1;32m   1192\u001b[0m \u001b[0;34m\u001b[0m\u001b[0m\n\u001b[1;32m   1193\u001b[0m \u001b[0;34m\u001b[0m\u001b[0m\n",
      "\u001b[0;32m/anaconda3/lib/python3.6/site-packages/sklearn/model_selection/_search.py\u001b[0m in \u001b[0;36mevaluate_candidates\u001b[0;34m(candidate_params)\u001b[0m\n\u001b[1;32m    709\u001b[0m                                \u001b[0;32mfor\u001b[0m \u001b[0mparameters\u001b[0m\u001b[0;34m,\u001b[0m \u001b[0;34m(\u001b[0m\u001b[0mtrain\u001b[0m\u001b[0;34m,\u001b[0m \u001b[0mtest\u001b[0m\u001b[0;34m)\u001b[0m\u001b[0;34m\u001b[0m\u001b[0m\n\u001b[1;32m    710\u001b[0m                                in product(candidate_params,\n\u001b[0;32m--> 711\u001b[0;31m                                           cv.split(X, y, groups)))\n\u001b[0m\u001b[1;32m    712\u001b[0m \u001b[0;34m\u001b[0m\u001b[0m\n\u001b[1;32m    713\u001b[0m                 \u001b[0mall_candidate_params\u001b[0m\u001b[0;34m.\u001b[0m\u001b[0mextend\u001b[0m\u001b[0;34m(\u001b[0m\u001b[0mcandidate_params\u001b[0m\u001b[0;34m)\u001b[0m\u001b[0;34m\u001b[0m\u001b[0m\n",
      "\u001b[0;32m/anaconda3/lib/python3.6/site-packages/sklearn/externals/joblib/parallel.py\u001b[0m in \u001b[0;36m__call__\u001b[0;34m(self, iterable)\u001b[0m\n\u001b[1;32m    984\u001b[0m                 \u001b[0mself\u001b[0m\u001b[0;34m.\u001b[0m\u001b[0m_iterating\u001b[0m \u001b[0;34m=\u001b[0m \u001b[0mself\u001b[0m\u001b[0;34m.\u001b[0m\u001b[0m_original_iterator\u001b[0m \u001b[0;32mis\u001b[0m \u001b[0;32mnot\u001b[0m \u001b[0;32mNone\u001b[0m\u001b[0;34m\u001b[0m\u001b[0m\n\u001b[1;32m    985\u001b[0m \u001b[0;34m\u001b[0m\u001b[0m\n\u001b[0;32m--> 986\u001b[0;31m             \u001b[0;32mwhile\u001b[0m \u001b[0mself\u001b[0m\u001b[0;34m.\u001b[0m\u001b[0mdispatch_one_batch\u001b[0m\u001b[0;34m(\u001b[0m\u001b[0miterator\u001b[0m\u001b[0;34m)\u001b[0m\u001b[0;34m:\u001b[0m\u001b[0;34m\u001b[0m\u001b[0m\n\u001b[0m\u001b[1;32m    987\u001b[0m                 \u001b[0;32mpass\u001b[0m\u001b[0;34m\u001b[0m\u001b[0m\n\u001b[1;32m    988\u001b[0m \u001b[0;34m\u001b[0m\u001b[0m\n",
      "\u001b[0;32m/anaconda3/lib/python3.6/site-packages/sklearn/externals/joblib/parallel.py\u001b[0m in \u001b[0;36mdispatch_one_batch\u001b[0;34m(self, iterator)\u001b[0m\n\u001b[1;32m    823\u001b[0m                 \u001b[0;32mreturn\u001b[0m \u001b[0;32mFalse\u001b[0m\u001b[0;34m\u001b[0m\u001b[0m\n\u001b[1;32m    824\u001b[0m             \u001b[0;32melse\u001b[0m\u001b[0;34m:\u001b[0m\u001b[0;34m\u001b[0m\u001b[0m\n\u001b[0;32m--> 825\u001b[0;31m                 \u001b[0mself\u001b[0m\u001b[0;34m.\u001b[0m\u001b[0m_dispatch\u001b[0m\u001b[0;34m(\u001b[0m\u001b[0mtasks\u001b[0m\u001b[0;34m)\u001b[0m\u001b[0;34m\u001b[0m\u001b[0m\n\u001b[0m\u001b[1;32m    826\u001b[0m                 \u001b[0;32mreturn\u001b[0m \u001b[0;32mTrue\u001b[0m\u001b[0;34m\u001b[0m\u001b[0m\n\u001b[1;32m    827\u001b[0m \u001b[0;34m\u001b[0m\u001b[0m\n",
      "\u001b[0;32m/anaconda3/lib/python3.6/site-packages/sklearn/externals/joblib/parallel.py\u001b[0m in \u001b[0;36m_dispatch\u001b[0;34m(self, batch)\u001b[0m\n\u001b[1;32m    780\u001b[0m         \u001b[0;32mwith\u001b[0m \u001b[0mself\u001b[0m\u001b[0;34m.\u001b[0m\u001b[0m_lock\u001b[0m\u001b[0;34m:\u001b[0m\u001b[0;34m\u001b[0m\u001b[0m\n\u001b[1;32m    781\u001b[0m             \u001b[0mjob_idx\u001b[0m \u001b[0;34m=\u001b[0m \u001b[0mlen\u001b[0m\u001b[0;34m(\u001b[0m\u001b[0mself\u001b[0m\u001b[0;34m.\u001b[0m\u001b[0m_jobs\u001b[0m\u001b[0;34m)\u001b[0m\u001b[0;34m\u001b[0m\u001b[0m\n\u001b[0;32m--> 782\u001b[0;31m             \u001b[0mjob\u001b[0m \u001b[0;34m=\u001b[0m \u001b[0mself\u001b[0m\u001b[0;34m.\u001b[0m\u001b[0m_backend\u001b[0m\u001b[0;34m.\u001b[0m\u001b[0mapply_async\u001b[0m\u001b[0;34m(\u001b[0m\u001b[0mbatch\u001b[0m\u001b[0;34m,\u001b[0m \u001b[0mcallback\u001b[0m\u001b[0;34m=\u001b[0m\u001b[0mcb\u001b[0m\u001b[0;34m)\u001b[0m\u001b[0;34m\u001b[0m\u001b[0m\n\u001b[0m\u001b[1;32m    783\u001b[0m             \u001b[0;31m# A job can complete so quickly than its callback is\u001b[0m\u001b[0;34m\u001b[0m\u001b[0;34m\u001b[0m\u001b[0m\n\u001b[1;32m    784\u001b[0m             \u001b[0;31m# called before we get here, causing self._jobs to\u001b[0m\u001b[0;34m\u001b[0m\u001b[0;34m\u001b[0m\u001b[0m\n",
      "\u001b[0;32m/anaconda3/lib/python3.6/site-packages/sklearn/externals/joblib/_parallel_backends.py\u001b[0m in \u001b[0;36mapply_async\u001b[0;34m(self, func, callback)\u001b[0m\n\u001b[1;32m    180\u001b[0m     \u001b[0;32mdef\u001b[0m \u001b[0mapply_async\u001b[0m\u001b[0;34m(\u001b[0m\u001b[0mself\u001b[0m\u001b[0;34m,\u001b[0m \u001b[0mfunc\u001b[0m\u001b[0;34m,\u001b[0m \u001b[0mcallback\u001b[0m\u001b[0;34m=\u001b[0m\u001b[0;32mNone\u001b[0m\u001b[0;34m)\u001b[0m\u001b[0;34m:\u001b[0m\u001b[0;34m\u001b[0m\u001b[0m\n\u001b[1;32m    181\u001b[0m         \u001b[0;34m\"\"\"Schedule a func to be run\"\"\"\u001b[0m\u001b[0;34m\u001b[0m\u001b[0m\n\u001b[0;32m--> 182\u001b[0;31m         \u001b[0mresult\u001b[0m \u001b[0;34m=\u001b[0m \u001b[0mImmediateResult\u001b[0m\u001b[0;34m(\u001b[0m\u001b[0mfunc\u001b[0m\u001b[0;34m)\u001b[0m\u001b[0;34m\u001b[0m\u001b[0m\n\u001b[0m\u001b[1;32m    183\u001b[0m         \u001b[0;32mif\u001b[0m \u001b[0mcallback\u001b[0m\u001b[0;34m:\u001b[0m\u001b[0;34m\u001b[0m\u001b[0m\n\u001b[1;32m    184\u001b[0m             \u001b[0mcallback\u001b[0m\u001b[0;34m(\u001b[0m\u001b[0mresult\u001b[0m\u001b[0;34m)\u001b[0m\u001b[0;34m\u001b[0m\u001b[0m\n",
      "\u001b[0;32m/anaconda3/lib/python3.6/site-packages/sklearn/externals/joblib/_parallel_backends.py\u001b[0m in \u001b[0;36m__init__\u001b[0;34m(self, batch)\u001b[0m\n\u001b[1;32m    543\u001b[0m         \u001b[0;31m# Don't delay the application, to avoid keeping the input\u001b[0m\u001b[0;34m\u001b[0m\u001b[0;34m\u001b[0m\u001b[0m\n\u001b[1;32m    544\u001b[0m         \u001b[0;31m# arguments in memory\u001b[0m\u001b[0;34m\u001b[0m\u001b[0;34m\u001b[0m\u001b[0m\n\u001b[0;32m--> 545\u001b[0;31m         \u001b[0mself\u001b[0m\u001b[0;34m.\u001b[0m\u001b[0mresults\u001b[0m \u001b[0;34m=\u001b[0m \u001b[0mbatch\u001b[0m\u001b[0;34m(\u001b[0m\u001b[0;34m)\u001b[0m\u001b[0;34m\u001b[0m\u001b[0m\n\u001b[0m\u001b[1;32m    546\u001b[0m \u001b[0;34m\u001b[0m\u001b[0m\n\u001b[1;32m    547\u001b[0m     \u001b[0;32mdef\u001b[0m \u001b[0mget\u001b[0m\u001b[0;34m(\u001b[0m\u001b[0mself\u001b[0m\u001b[0;34m)\u001b[0m\u001b[0;34m:\u001b[0m\u001b[0;34m\u001b[0m\u001b[0m\n",
      "\u001b[0;32m/anaconda3/lib/python3.6/site-packages/sklearn/externals/joblib/parallel.py\u001b[0m in \u001b[0;36m__call__\u001b[0;34m(self)\u001b[0m\n\u001b[1;32m    259\u001b[0m         \u001b[0;32mwith\u001b[0m \u001b[0mparallel_backend\u001b[0m\u001b[0;34m(\u001b[0m\u001b[0mself\u001b[0m\u001b[0;34m.\u001b[0m\u001b[0m_backend\u001b[0m\u001b[0;34m)\u001b[0m\u001b[0;34m:\u001b[0m\u001b[0;34m\u001b[0m\u001b[0m\n\u001b[1;32m    260\u001b[0m             return [func(*args, **kwargs)\n\u001b[0;32m--> 261\u001b[0;31m                     for func, args, kwargs in self.items]\n\u001b[0m\u001b[1;32m    262\u001b[0m \u001b[0;34m\u001b[0m\u001b[0m\n\u001b[1;32m    263\u001b[0m     \u001b[0;32mdef\u001b[0m \u001b[0m__len__\u001b[0m\u001b[0;34m(\u001b[0m\u001b[0mself\u001b[0m\u001b[0;34m)\u001b[0m\u001b[0;34m:\u001b[0m\u001b[0;34m\u001b[0m\u001b[0m\n",
      "\u001b[0;32m/anaconda3/lib/python3.6/site-packages/sklearn/externals/joblib/parallel.py\u001b[0m in \u001b[0;36m<listcomp>\u001b[0;34m(.0)\u001b[0m\n\u001b[1;32m    259\u001b[0m         \u001b[0;32mwith\u001b[0m \u001b[0mparallel_backend\u001b[0m\u001b[0;34m(\u001b[0m\u001b[0mself\u001b[0m\u001b[0;34m.\u001b[0m\u001b[0m_backend\u001b[0m\u001b[0;34m)\u001b[0m\u001b[0;34m:\u001b[0m\u001b[0;34m\u001b[0m\u001b[0m\n\u001b[1;32m    260\u001b[0m             return [func(*args, **kwargs)\n\u001b[0;32m--> 261\u001b[0;31m                     for func, args, kwargs in self.items]\n\u001b[0m\u001b[1;32m    262\u001b[0m \u001b[0;34m\u001b[0m\u001b[0m\n\u001b[1;32m    263\u001b[0m     \u001b[0;32mdef\u001b[0m \u001b[0m__len__\u001b[0m\u001b[0;34m(\u001b[0m\u001b[0mself\u001b[0m\u001b[0;34m)\u001b[0m\u001b[0;34m:\u001b[0m\u001b[0;34m\u001b[0m\u001b[0m\n",
      "\u001b[0;32m/anaconda3/lib/python3.6/site-packages/sklearn/model_selection/_validation.py\u001b[0m in \u001b[0;36m_fit_and_score\u001b[0;34m(estimator, X, y, scorer, train, test, verbose, parameters, fit_params, return_train_score, return_parameters, return_n_test_samples, return_times, return_estimator, error_score)\u001b[0m\n\u001b[1;32m    570\u001b[0m         \u001b[0;32mif\u001b[0m \u001b[0mreturn_train_score\u001b[0m\u001b[0;34m:\u001b[0m\u001b[0;34m\u001b[0m\u001b[0m\n\u001b[1;32m    571\u001b[0m             train_scores = _score(estimator, X_train, y_train, scorer,\n\u001b[0;32m--> 572\u001b[0;31m                                   is_multimetric)\n\u001b[0m\u001b[1;32m    573\u001b[0m \u001b[0;34m\u001b[0m\u001b[0m\n\u001b[1;32m    574\u001b[0m     \u001b[0;32mif\u001b[0m \u001b[0mverbose\u001b[0m \u001b[0;34m>\u001b[0m \u001b[0;36m2\u001b[0m\u001b[0;34m:\u001b[0m\u001b[0;34m\u001b[0m\u001b[0m\n",
      "\u001b[0;32m/anaconda3/lib/python3.6/site-packages/sklearn/model_selection/_validation.py\u001b[0m in \u001b[0;36m_score\u001b[0;34m(estimator, X_test, y_test, scorer, is_multimetric)\u001b[0m\n\u001b[1;32m    603\u001b[0m     \"\"\"\n\u001b[1;32m    604\u001b[0m     \u001b[0;32mif\u001b[0m \u001b[0mis_multimetric\u001b[0m\u001b[0;34m:\u001b[0m\u001b[0;34m\u001b[0m\u001b[0m\n\u001b[0;32m--> 605\u001b[0;31m         \u001b[0;32mreturn\u001b[0m \u001b[0m_multimetric_score\u001b[0m\u001b[0;34m(\u001b[0m\u001b[0mestimator\u001b[0m\u001b[0;34m,\u001b[0m \u001b[0mX_test\u001b[0m\u001b[0;34m,\u001b[0m \u001b[0my_test\u001b[0m\u001b[0;34m,\u001b[0m \u001b[0mscorer\u001b[0m\u001b[0;34m)\u001b[0m\u001b[0;34m\u001b[0m\u001b[0m\n\u001b[0m\u001b[1;32m    606\u001b[0m     \u001b[0;32melse\u001b[0m\u001b[0;34m:\u001b[0m\u001b[0;34m\u001b[0m\u001b[0m\n\u001b[1;32m    607\u001b[0m         \u001b[0;32mif\u001b[0m \u001b[0my_test\u001b[0m \u001b[0;32mis\u001b[0m \u001b[0;32mNone\u001b[0m\u001b[0;34m:\u001b[0m\u001b[0;34m\u001b[0m\u001b[0m\n",
      "\u001b[0;32m/anaconda3/lib/python3.6/site-packages/sklearn/model_selection/_validation.py\u001b[0m in \u001b[0;36m_multimetric_score\u001b[0;34m(estimator, X_test, y_test, scorers)\u001b[0m\n\u001b[1;32m    633\u001b[0m             \u001b[0mscore\u001b[0m \u001b[0;34m=\u001b[0m \u001b[0mscorer\u001b[0m\u001b[0;34m(\u001b[0m\u001b[0mestimator\u001b[0m\u001b[0;34m,\u001b[0m \u001b[0mX_test\u001b[0m\u001b[0;34m)\u001b[0m\u001b[0;34m\u001b[0m\u001b[0m\n\u001b[1;32m    634\u001b[0m         \u001b[0;32melse\u001b[0m\u001b[0;34m:\u001b[0m\u001b[0;34m\u001b[0m\u001b[0m\n\u001b[0;32m--> 635\u001b[0;31m             \u001b[0mscore\u001b[0m \u001b[0;34m=\u001b[0m \u001b[0mscorer\u001b[0m\u001b[0;34m(\u001b[0m\u001b[0mestimator\u001b[0m\u001b[0;34m,\u001b[0m \u001b[0mX_test\u001b[0m\u001b[0;34m,\u001b[0m \u001b[0my_test\u001b[0m\u001b[0;34m)\u001b[0m\u001b[0;34m\u001b[0m\u001b[0m\n\u001b[0m\u001b[1;32m    636\u001b[0m \u001b[0;34m\u001b[0m\u001b[0m\n\u001b[1;32m    637\u001b[0m         \u001b[0;32mif\u001b[0m \u001b[0mhasattr\u001b[0m\u001b[0;34m(\u001b[0m\u001b[0mscore\u001b[0m\u001b[0;34m,\u001b[0m \u001b[0;34m'item'\u001b[0m\u001b[0;34m)\u001b[0m\u001b[0;34m:\u001b[0m\u001b[0;34m\u001b[0m\u001b[0m\n",
      "\u001b[0;32m/anaconda3/lib/python3.6/site-packages/sklearn/metrics/scorer.py\u001b[0m in \u001b[0;36m_passthrough_scorer\u001b[0;34m(estimator, *args, **kwargs)\u001b[0m\n\u001b[1;32m    226\u001b[0m \u001b[0;32mdef\u001b[0m \u001b[0m_passthrough_scorer\u001b[0m\u001b[0;34m(\u001b[0m\u001b[0mestimator\u001b[0m\u001b[0;34m,\u001b[0m \u001b[0;34m*\u001b[0m\u001b[0margs\u001b[0m\u001b[0;34m,\u001b[0m \u001b[0;34m**\u001b[0m\u001b[0mkwargs\u001b[0m\u001b[0;34m)\u001b[0m\u001b[0;34m:\u001b[0m\u001b[0;34m\u001b[0m\u001b[0m\n\u001b[1;32m    227\u001b[0m     \u001b[0;34m\"\"\"Function that wraps estimator.score\"\"\"\u001b[0m\u001b[0;34m\u001b[0m\u001b[0m\n\u001b[0;32m--> 228\u001b[0;31m     \u001b[0;32mreturn\u001b[0m \u001b[0mestimator\u001b[0m\u001b[0;34m.\u001b[0m\u001b[0mscore\u001b[0m\u001b[0;34m(\u001b[0m\u001b[0;34m*\u001b[0m\u001b[0margs\u001b[0m\u001b[0;34m,\u001b[0m \u001b[0;34m**\u001b[0m\u001b[0mkwargs\u001b[0m\u001b[0;34m)\u001b[0m\u001b[0;34m\u001b[0m\u001b[0m\n\u001b[0m\u001b[1;32m    229\u001b[0m \u001b[0;34m\u001b[0m\u001b[0m\n\u001b[1;32m    230\u001b[0m \u001b[0;34m\u001b[0m\u001b[0m\n",
      "\u001b[0;32m/anaconda3/lib/python3.6/site-packages/sklearn/base.py\u001b[0m in \u001b[0;36mscore\u001b[0;34m(self, X, y, sample_weight)\u001b[0m\n\u001b[1;32m    286\u001b[0m         \"\"\"\n\u001b[1;32m    287\u001b[0m         \u001b[0;32mfrom\u001b[0m \u001b[0;34m.\u001b[0m\u001b[0mmetrics\u001b[0m \u001b[0;32mimport\u001b[0m \u001b[0maccuracy_score\u001b[0m\u001b[0;34m\u001b[0m\u001b[0m\n\u001b[0;32m--> 288\u001b[0;31m         \u001b[0;32mreturn\u001b[0m \u001b[0maccuracy_score\u001b[0m\u001b[0;34m(\u001b[0m\u001b[0my\u001b[0m\u001b[0;34m,\u001b[0m \u001b[0mself\u001b[0m\u001b[0;34m.\u001b[0m\u001b[0mpredict\u001b[0m\u001b[0;34m(\u001b[0m\u001b[0mX\u001b[0m\u001b[0;34m)\u001b[0m\u001b[0;34m,\u001b[0m \u001b[0msample_weight\u001b[0m\u001b[0;34m=\u001b[0m\u001b[0msample_weight\u001b[0m\u001b[0;34m)\u001b[0m\u001b[0;34m\u001b[0m\u001b[0m\n\u001b[0m\u001b[1;32m    289\u001b[0m \u001b[0;34m\u001b[0m\u001b[0m\n\u001b[1;32m    290\u001b[0m \u001b[0;34m\u001b[0m\u001b[0m\n",
      "\u001b[0;32m/anaconda3/lib/python3.6/site-packages/sklearn/svm/base.py\u001b[0m in \u001b[0;36mpredict\u001b[0;34m(self, X)\u001b[0m\n\u001b[1;32m    565\u001b[0m             \u001b[0mClass\u001b[0m \u001b[0mlabels\u001b[0m \u001b[0;32mfor\u001b[0m \u001b[0msamples\u001b[0m \u001b[0;32min\u001b[0m \u001b[0mX\u001b[0m\u001b[0;34m.\u001b[0m\u001b[0;34m\u001b[0m\u001b[0m\n\u001b[1;32m    566\u001b[0m         \"\"\"\n\u001b[0;32m--> 567\u001b[0;31m         \u001b[0my\u001b[0m \u001b[0;34m=\u001b[0m \u001b[0msuper\u001b[0m\u001b[0;34m(\u001b[0m\u001b[0mBaseSVC\u001b[0m\u001b[0;34m,\u001b[0m \u001b[0mself\u001b[0m\u001b[0;34m)\u001b[0m\u001b[0;34m.\u001b[0m\u001b[0mpredict\u001b[0m\u001b[0;34m(\u001b[0m\u001b[0mX\u001b[0m\u001b[0;34m)\u001b[0m\u001b[0;34m\u001b[0m\u001b[0m\n\u001b[0m\u001b[1;32m    568\u001b[0m         \u001b[0;32mreturn\u001b[0m \u001b[0mself\u001b[0m\u001b[0;34m.\u001b[0m\u001b[0mclasses_\u001b[0m\u001b[0;34m.\u001b[0m\u001b[0mtake\u001b[0m\u001b[0;34m(\u001b[0m\u001b[0mnp\u001b[0m\u001b[0;34m.\u001b[0m\u001b[0masarray\u001b[0m\u001b[0;34m(\u001b[0m\u001b[0my\u001b[0m\u001b[0;34m,\u001b[0m \u001b[0mdtype\u001b[0m\u001b[0;34m=\u001b[0m\u001b[0mnp\u001b[0m\u001b[0;34m.\u001b[0m\u001b[0mintp\u001b[0m\u001b[0;34m)\u001b[0m\u001b[0;34m)\u001b[0m\u001b[0;34m\u001b[0m\u001b[0m\n\u001b[1;32m    569\u001b[0m \u001b[0;34m\u001b[0m\u001b[0m\n",
      "\u001b[0;32m/anaconda3/lib/python3.6/site-packages/sklearn/svm/base.py\u001b[0m in \u001b[0;36mpredict\u001b[0;34m(self, X)\u001b[0m\n\u001b[1;32m    325\u001b[0m         \u001b[0mX\u001b[0m \u001b[0;34m=\u001b[0m \u001b[0mself\u001b[0m\u001b[0;34m.\u001b[0m\u001b[0m_validate_for_predict\u001b[0m\u001b[0;34m(\u001b[0m\u001b[0mX\u001b[0m\u001b[0;34m)\u001b[0m\u001b[0;34m\u001b[0m\u001b[0m\n\u001b[1;32m    326\u001b[0m         \u001b[0mpredict\u001b[0m \u001b[0;34m=\u001b[0m \u001b[0mself\u001b[0m\u001b[0;34m.\u001b[0m\u001b[0m_sparse_predict\u001b[0m \u001b[0;32mif\u001b[0m \u001b[0mself\u001b[0m\u001b[0;34m.\u001b[0m\u001b[0m_sparse\u001b[0m \u001b[0;32melse\u001b[0m \u001b[0mself\u001b[0m\u001b[0;34m.\u001b[0m\u001b[0m_dense_predict\u001b[0m\u001b[0;34m\u001b[0m\u001b[0m\n\u001b[0;32m--> 327\u001b[0;31m         \u001b[0;32mreturn\u001b[0m \u001b[0mpredict\u001b[0m\u001b[0;34m(\u001b[0m\u001b[0mX\u001b[0m\u001b[0;34m)\u001b[0m\u001b[0;34m\u001b[0m\u001b[0m\n\u001b[0m\u001b[1;32m    328\u001b[0m \u001b[0;34m\u001b[0m\u001b[0m\n\u001b[1;32m    329\u001b[0m     \u001b[0;32mdef\u001b[0m \u001b[0m_dense_predict\u001b[0m\u001b[0;34m(\u001b[0m\u001b[0mself\u001b[0m\u001b[0;34m,\u001b[0m \u001b[0mX\u001b[0m\u001b[0;34m)\u001b[0m\u001b[0;34m:\u001b[0m\u001b[0;34m\u001b[0m\u001b[0m\n",
      "\u001b[0;32m/anaconda3/lib/python3.6/site-packages/sklearn/svm/base.py\u001b[0m in \u001b[0;36m_dense_predict\u001b[0;34m(self, X)\u001b[0m\n\u001b[1;32m    348\u001b[0m             \u001b[0mself\u001b[0m\u001b[0;34m.\u001b[0m\u001b[0mprobA_\u001b[0m\u001b[0;34m,\u001b[0m \u001b[0mself\u001b[0m\u001b[0;34m.\u001b[0m\u001b[0mprobB_\u001b[0m\u001b[0;34m,\u001b[0m \u001b[0msvm_type\u001b[0m\u001b[0;34m=\u001b[0m\u001b[0msvm_type\u001b[0m\u001b[0;34m,\u001b[0m \u001b[0mkernel\u001b[0m\u001b[0;34m=\u001b[0m\u001b[0mkernel\u001b[0m\u001b[0;34m,\u001b[0m\u001b[0;34m\u001b[0m\u001b[0m\n\u001b[1;32m    349\u001b[0m             \u001b[0mdegree\u001b[0m\u001b[0;34m=\u001b[0m\u001b[0mself\u001b[0m\u001b[0;34m.\u001b[0m\u001b[0mdegree\u001b[0m\u001b[0;34m,\u001b[0m \u001b[0mcoef0\u001b[0m\u001b[0;34m=\u001b[0m\u001b[0mself\u001b[0m\u001b[0;34m.\u001b[0m\u001b[0mcoef0\u001b[0m\u001b[0;34m,\u001b[0m \u001b[0mgamma\u001b[0m\u001b[0;34m=\u001b[0m\u001b[0mself\u001b[0m\u001b[0;34m.\u001b[0m\u001b[0m_gamma\u001b[0m\u001b[0;34m,\u001b[0m\u001b[0;34m\u001b[0m\u001b[0m\n\u001b[0;32m--> 350\u001b[0;31m             cache_size=self.cache_size)\n\u001b[0m\u001b[1;32m    351\u001b[0m \u001b[0;34m\u001b[0m\u001b[0m\n\u001b[1;32m    352\u001b[0m     \u001b[0;32mdef\u001b[0m \u001b[0m_sparse_predict\u001b[0m\u001b[0;34m(\u001b[0m\u001b[0mself\u001b[0m\u001b[0;34m,\u001b[0m \u001b[0mX\u001b[0m\u001b[0;34m)\u001b[0m\u001b[0;34m:\u001b[0m\u001b[0;34m\u001b[0m\u001b[0m\n",
      "\u001b[0;31mKeyboardInterrupt\u001b[0m: "
     ]
    }
   ],
   "source": [
    "gs.fit(X_train_comb, y_train)"
   ]
  },
  {
   "cell_type": "code",
   "execution_count": null,
   "metadata": {},
   "outputs": [],
   "source": [
    "gs.best_score_"
   ]
  },
  {
   "cell_type": "code",
   "execution_count": null,
   "metadata": {},
   "outputs": [],
   "source": [
    "y_pred = svc.predict(X_test_comb)\n",
    "accuracy_score(y_test, y_pred)"
   ]
  },
  {
   "cell_type": "code",
   "execution_count": null,
   "metadata": {},
   "outputs": [],
   "source": [
    "svc.score(X_train_comb, y_train)"
   ]
  },
  {
   "cell_type": "markdown",
   "metadata": {},
   "source": [
    "### Multinomial Naive Bayes"
   ]
  },
  {
   "cell_type": "code",
   "execution_count": 68,
   "metadata": {},
   "outputs": [
    {
     "data": {
      "text/plain": [
       "0.9194167306216423"
      ]
     },
     "execution_count": 68,
     "metadata": {},
     "output_type": "execute_result"
    }
   ],
   "source": [
    "nb = MultinomialNB()\n",
    "model = nb.fit(X_train_comb, y_train)\n",
    "predictions = model.predict(X_test_comb)\n",
    "model.score(X_train_comb, y_train)"
   ]
  },
  {
   "cell_type": "code",
   "execution_count": 69,
   "metadata": {},
   "outputs": [
    {
     "data": {
      "text/plain": [
       "0.7080459770114943"
      ]
     },
     "execution_count": 69,
     "metadata": {},
     "output_type": "execute_result"
    }
   ],
   "source": [
    "model.score(X_test_comb, y_test)"
   ]
  },
  {
   "cell_type": "markdown",
   "metadata": {},
   "source": [
    "### K-nearest neighbors"
   ]
  },
  {
   "cell_type": "code",
   "execution_count": 88,
   "metadata": {},
   "outputs": [
    {
     "data": {
      "text/plain": [
       "0.5725338559598848"
      ]
     },
     "execution_count": 88,
     "metadata": {},
     "output_type": "execute_result"
    }
   ],
   "source": [
    "knn = KNeighborsClassifier()\n",
    "cross_val_score(KNeighborsClassifier(n_neighbors=10), X_train_comb, y_train).mean()"
   ]
  },
  {
   "cell_type": "code",
   "execution_count": 106,
   "metadata": {},
   "outputs": [
    {
     "data": {
      "text/plain": [
       "KNeighborsClassifier(algorithm='auto', leaf_size=30, metric='minkowski',\n",
       "           metric_params=None, n_jobs=None, n_neighbors=5, p=2,\n",
       "           weights='uniform')"
      ]
     },
     "execution_count": 106,
     "metadata": {},
     "output_type": "execute_result"
    }
   ],
   "source": [
    "knn.fit(X_train_comb, y_train)"
   ]
  },
  {
   "cell_type": "code",
   "execution_count": 107,
   "metadata": {},
   "outputs": [
    {
     "data": {
      "text/plain": [
       "0.593103448275862"
      ]
     },
     "execution_count": 107,
     "metadata": {},
     "output_type": "execute_result"
    }
   ],
   "source": [
    "knn.score(X_test_comb, y_test)"
   ]
  },
  {
   "cell_type": "code",
   "execution_count": 90,
   "metadata": {},
   "outputs": [
    {
     "data": {
      "text/plain": [
       "0.6938132316330314"
      ]
     },
     "execution_count": 90,
     "metadata": {},
     "output_type": "execute_result"
    }
   ],
   "source": [
    "cross_val_score(nb, X_train_comb, y_train).mean()"
   ]
  },
  {
   "cell_type": "markdown",
   "metadata": {},
   "source": [
    "### DecisionTree"
   ]
  },
  {
   "cell_type": "code",
   "execution_count": 92,
   "metadata": {},
   "outputs": [
    {
     "data": {
      "text/plain": [
       "0.9992325402916347"
      ]
     },
     "execution_count": 92,
     "metadata": {},
     "output_type": "execute_result"
    }
   ],
   "source": [
    "tree = DecisionTreeClassifier()\n",
    "tree.fit(X_train_comb, y_train)\n",
    "tree.score(X_train_comb, y_train)"
   ]
  },
  {
   "cell_type": "code",
   "execution_count": 93,
   "metadata": {},
   "outputs": [
    {
     "data": {
      "text/plain": [
       "0.6114942528735632"
      ]
     },
     "execution_count": 93,
     "metadata": {},
     "output_type": "execute_result"
    }
   ],
   "source": [
    "tree.score(X_test_comb, y_test)"
   ]
  },
  {
   "cell_type": "markdown",
   "metadata": {},
   "source": [
    "### Bagging"
   ]
  },
  {
   "cell_type": "code",
   "execution_count": 94,
   "metadata": {},
   "outputs": [
    {
     "data": {
      "text/plain": [
       "0.6459770114942529"
      ]
     },
     "execution_count": 94,
     "metadata": {},
     "output_type": "execute_result"
    }
   ],
   "source": [
    "bag = BaggingClassifier()\n",
    "bag.fit(X_train_comb, y_train)\n",
    "bag.score(X_test_comb, y_test)"
   ]
  },
  {
   "cell_type": "code",
   "execution_count": 96,
   "metadata": {},
   "outputs": [
    {
     "data": {
      "text/plain": [
       "0.9746738296239448"
      ]
     },
     "execution_count": 96,
     "metadata": {},
     "output_type": "execute_result"
    }
   ],
   "source": [
    "bag.score(X_train_comb, y_train)"
   ]
  },
  {
   "cell_type": "markdown",
   "metadata": {},
   "source": [
    "### AdaBoost"
   ]
  },
  {
   "cell_type": "code",
   "execution_count": 183,
   "metadata": {},
   "outputs": [],
   "source": [
    "scores_test = []\n",
    "scores_train = []\n",
    "n_estimators = []\n",
    "\n",
    "for n_est in range(50):\n",
    "    ada = AdaBoostClassifier(n_estimators=n_est+1, random_state=42)\n",
    "    ada.fit(X_train_comb, y_train)\n",
    "    n_estimators.append(n_est+1)\n",
    "    scores_test.append(ada.score(X_test_comb, y_test))\n",
    "    scores_train.append(ada.score(X_train_comb, y_train))"
   ]
  },
  {
   "cell_type": "code",
   "execution_count": 184,
   "metadata": {},
   "outputs": [
    {
     "data": {
      "image/png": "[encoded data removed]",
      "text/plain": [
       "<Figure size 432x288 with 1 Axes>"
      ]
     },
     "metadata": {
      "needs_background": "light"
     },
     "output_type": "display_data"
    }
   ],
   "source": [
    "plt.plot(n_estimators, scores_test, label='Test Scores')\n",
    "plt.plot(n_estimators, scores_train, label='Train Scores')\n",
    "plt.xlabel('# Estimators', size=15)\n",
    "plt.ylabel('Accuracy',size=15)\n",
    "plt.legend(fontsize=15, loc=4)\n",
    "plt.savefig('./adaboosting.png')"
   ]
  },
  {
   "cell_type": "markdown",
   "metadata": {},
   "source": [
    "### GradientBoosting"
   ]
  },
  {
   "cell_type": "code",
   "execution_count": 128,
   "metadata": {},
   "outputs": [],
   "source": [
    "scores_test = []\n",
    "scores_train = []\n",
    "n_estimators = []\n",
    "\n",
    "for n_est in range(50):\n",
    "    grb = GradientBoostingClassifier(n_estimators=n_est+1, random_state=42)\n",
    "    grb.fit(X_train_comb, y_train)\n",
    "    n_estimators.append(n_est+1)\n",
    "    scores_test.append(grb.score(X_test_comb, y_test))\n",
    "    scores_train.append(grb.score(X_train_comb, y_train))"
   ]
  },
  {
   "cell_type": "code",
   "execution_count": 181,
   "metadata": {},
   "outputs": [
    {
     "data": {
      "image/png": "[encoded data removed]",
      "text/plain": [
       "<Figure size 432x288 with 1 Axes>"
      ]
     },
     "metadata": {
      "needs_background": "light"
     },
     "output_type": "display_data"
    }
   ],
   "source": [
    "plt.plot(n_estimators, scores_test, label='Test Scores')\n",
    "plt.plot(n_estimators, scores_train, label='Train Scores')\n",
    "plt.xlabel('# Estimators', size=15)\n",
    "plt.ylabel('Accuracy', size=15)\n",
    "plt.legend(fontsize=15, loc=4)\n",
    "plt.savefig('./gradientboosting.png')"
   ]
  },
  {
   "cell_type": "markdown",
   "metadata": {},
   "source": [
    "### Plot the accuracy score of each model"
   ]
  },
  {
   "cell_type": "code",
   "execution_count": 31,
   "metadata": {},
   "outputs": [],
   "source": [
    "accuracy_scoress = {'RandomForest': [0.6229885],\n",
    "                 'DecisionTree': [0.6114943],\n",
    "                 'BaggingTree': [0.6459770],\n",
    "                 'AdaBoost': [0.6735632],\n",
    "                 'GradientBoosting': [0.6735632],\n",
    "                 'ExtraTree': [0.7126437],\n",
    "                 'KNeighbor': [0.5931034],\n",
    "                 'MultinomialNaiveBeyes': [0.7080460],\n",
    "                 'LogisticRegression': [0.7356322]}"
   ]
  },
  {
   "cell_type": "code",
   "execution_count": 32,
   "metadata": {},
   "outputs": [
    {
     "data": {
      "text/html": [
       "<div>\n",
       "<style scoped>\n",
       "    .dataframe tbody tr th:only-of-type {\n",
       "        vertical-align: middle;\n",
       "    }\n",
       "\n",
       "    .dataframe tbody tr th {\n",
       "        vertical-align: top;\n",
       "    }\n",
       "\n",
       "    .dataframe thead th {\n",
       "        text-align: right;\n",
       "    }\n",
       "</style>\n",
       "<table border=\"1\" class=\"dataframe\">\n",
       "  <thead>\n",
       "    <tr style=\"text-align: right;\">\n",
       "      <th></th>\n",
       "      <th>Accuracy</th>\n",
       "    </tr>\n",
       "  </thead>\n",
       "  <tbody>\n",
       "    <tr>\n",
       "      <th>LogisticRegression</th>\n",
       "      <td>0.735632</td>\n",
       "    </tr>\n",
       "    <tr>\n",
       "      <th>ExtraTree</th>\n",
       "      <td>0.712644</td>\n",
       "    </tr>\n",
       "    <tr>\n",
       "      <th>MultinomialNaiveBeyes</th>\n",
       "      <td>0.708046</td>\n",
       "    </tr>\n",
       "    <tr>\n",
       "      <th>AdaBoost</th>\n",
       "      <td>0.673563</td>\n",
       "    </tr>\n",
       "    <tr>\n",
       "      <th>GradientBoosting</th>\n",
       "      <td>0.673563</td>\n",
       "    </tr>\n",
       "    <tr>\n",
       "      <th>BaggingTree</th>\n",
       "      <td>0.645977</td>\n",
       "    </tr>\n",
       "    <tr>\n",
       "      <th>RandomForest</th>\n",
       "      <td>0.622988</td>\n",
       "    </tr>\n",
       "    <tr>\n",
       "      <th>DecisionTree</th>\n",
       "      <td>0.611494</td>\n",
       "    </tr>\n",
       "    <tr>\n",
       "      <th>KNeighbor</th>\n",
       "      <td>0.593103</td>\n",
       "    </tr>\n",
       "  </tbody>\n",
       "</table>\n",
       "</div>"
      ],
      "text/plain": [
       "                       Accuracy\n",
       "LogisticRegression     0.735632\n",
       "ExtraTree              0.712644\n",
       "MultinomialNaiveBeyes  0.708046\n",
       "AdaBoost               0.673563\n",
       "GradientBoosting       0.673563\n",
       "BaggingTree            0.645977\n",
       "RandomForest           0.622988\n",
       "DecisionTree           0.611494\n",
       "KNeighbor              0.593103"
      ]
     },
     "execution_count": 32,
     "metadata": {},
     "output_type": "execute_result"
    }
   ],
   "source": [
    "pd.DataFrame(accuracy_scoress, index=['Accuracy']).T.sort_values('Accuracy', ascending=False)"
   ]
  },
  {
   "cell_type": "markdown",
   "metadata": {},
   "source": [
    "> It seems that Logistic Regression is more accurate that other models to predict the food trend in NYC or LA."
   ]
  },
  {
   "cell_type": "markdown",
   "metadata": {},
   "source": [
    "### Recommendation for launching restaurant businesss in EC and WC."
   ]
  },
  {
   "cell_type": "markdown",
   "metadata": {},
   "source": [
    "* Meaningful features from Top 50 features (more relevant to NYC)\n",
    "\n",
    "> Momofuku, omakaze, chinese, cookie, bagel, bar, rib, \n",
    "> restaurant week, food fest, italian, michelin, vegan\n",
    "\n",
    "* Meaningful features from Bottom 50 features (more relevant to LA)\n",
    "\n",
    "> Toast, taco, chili, burger, shake shack, potato, donut, tsujita\n",
    "> Hollywood, cafe\n"
   ]
  },
  {
   "cell_type": "markdown",
   "metadata": {},
   "source": [
    "> For NYC (East coast)\n",
    "- Omakaze, bagel, and italian food are popular in NYC\n",
    "- Use food fest, restaurant week, michelin star\n",
    "- Better to have vegan menu\n",
    "\n",
    "> For West coast\n",
    "- Burger, taco, chili are popular in LA\n",
    "\n",
    "> For both\n",
    "- Japanese restaurant is familiar for EC and WC in general.\n"
   ]
  },
  {
   "cell_type": "code",
   "execution_count": null,
   "metadata": {},
   "outputs": [],
   "source": []
  }
 ],
 "metadata": {
  "kernelspec": {
   "display_name": "Python 3",
   "language": "python",
   "name": "python3"
  },
  "language_info": {
   "codemirror_mode": {
    "name": "ipython",
    "version": 3
   },
   "file_extension": ".py",
   "mimetype": "text/x-python",
   "name": "python",
   "nbconvert_exporter": "python",
   "pygments_lexer": "ipython3",
   "version": "3.6.6"
  }
 },
 "nbformat": 4,
 "nbformat_minor": 2
}
